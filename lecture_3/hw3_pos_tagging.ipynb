{
  "nbformat": 4,
  "nbformat_minor": 0,
  "metadata": {
    "colab": {
      "name": "hw3_pos_tagging.ipynb",
      "provenance": [],
      "collapsed_sections": [],
      "toc_visible": true
    },
    "kernelspec": {
      "display_name": "Python 3",
      "language": "python",
      "name": "python3"
    },
    "language_info": {
      "codemirror_mode": {
        "name": "ipython",
        "version": 3
      },
      "file_extension": ".py",
      "mimetype": "text/x-python",
      "name": "python",
      "nbconvert_exporter": "python",
      "pygments_lexer": "ipython3",
      "version": "3.7.3"
    },
    "accelerator": "GPU"
  },
  "cells": [
    {
      "cell_type": "code",
      "metadata": {
        "colab": {
          "base_uri": "https://localhost:8080/"
        },
        "id": "ppUxYJfnjh1W",
        "outputId": "ff5cf852-8a01-4207-ae6d-2294f0d00de7"
      },
      "source": [
        "!nvidia-smi"
      ],
      "execution_count": 2,
      "outputs": [
        {
          "output_type": "stream",
          "text": [
            "Tue Feb  2 06:51:41 2021       \n",
            "+-----------------------------------------------------------------------------+\n",
            "| NVIDIA-SMI 460.32.03    Driver Version: 418.67       CUDA Version: 10.1     |\n",
            "|-------------------------------+----------------------+----------------------+\n",
            "| GPU  Name        Persistence-M| Bus-Id        Disp.A | Volatile Uncorr. ECC |\n",
            "| Fan  Temp  Perf  Pwr:Usage/Cap|         Memory-Usage | GPU-Util  Compute M. |\n",
            "|                               |                      |               MIG M. |\n",
            "|===============================+======================+======================|\n",
            "|   0  Tesla P100-PCIE...  Off  | 00000000:00:04.0 Off |                    0 |\n",
            "| N/A   41C    P0    27W / 250W |      0MiB / 16280MiB |      0%      Default |\n",
            "|                               |                      |                 ERR! |\n",
            "+-------------------------------+----------------------+----------------------+\n",
            "                                                                               \n",
            "+-----------------------------------------------------------------------------+\n",
            "| Processes:                                                                  |\n",
            "|  GPU   GI   CI        PID   Type   Process name                  GPU Memory |\n",
            "|        ID   ID                                                   Usage      |\n",
            "|=============================================================================|\n",
            "|  No running processes found                                                 |\n",
            "+-----------------------------------------------------------------------------+\n"
          ],
          "name": "stdout"
        }
      ]
    },
    {
      "cell_type": "markdown",
      "metadata": {
        "id": "SpCKO19dhHPq"
      },
      "source": [
        "# HW 3 - Neural POS Tagger\n",
        "\n",
        "In this exercise, you are going to build a set of deep learning models on part-of-speech (POS) tagging using Tensorflow 2. Tensorflow is a deep learning framwork developed by Google to provide an easier way to use standard layers and networks.\n",
        "\n",
        "To complete this exercise, you will need to build deep learning models for POS tagging in Thai using NECTEC's ORCHID corpus. You will build one model for each of the following type:\n",
        "\n",
        "- Neural POS Tagging with Word Embedding using Fixed / non-Fixed Pretrained weights\n",
        "- Neural POS Tagging with Viterbi / Marginal CRF\n",
        "\n",
        "Pretrained word embeddding are already given for you to use (albeit, a very bad one).\n",
        "\n",
        "We also provide the code for data cleaning, preprocessing and some starter code for tensorflow 2 in this notebook but feel free to modify those parts to suit your needs. Feel free to use additional libraries (e.g. scikit-learn) as long as you have a model for each type mentioned above.\n",
        "\n",
        "### Don't forget to change hardware accelrator to GPU in runtime on Google Colab ###"
      ]
    },
    {
      "cell_type": "markdown",
      "metadata": {
        "id": "Qx0YbM_8hHPt"
      },
      "source": [
        "## 1. Setup and Preprocessing"
      ]
    },
    {
      "cell_type": "markdown",
      "metadata": {
        "id": "yF3lPNNkhHPu"
      },
      "source": [
        "We use POS data from [ORCHID corpus](https://www.nectec.or.th/corpus/index.php?league=pm), which is a POS corpus for Thai language.\n",
        "A method used to read the corpus into a list of sentences with (word, POS) pairs have been implemented already. The example usage has shown below.\n",
        "We also create a word vector for unknown word by random."
      ]
    },
    {
      "cell_type": "code",
      "metadata": {
        "id": "GS6O5yT6feRd"
      },
      "source": [
        "%tensorflow_version 2.x"
      ],
      "execution_count": 3,
      "outputs": []
    },
    {
      "cell_type": "code",
      "metadata": {
        "colab": {
          "base_uri": "https://localhost:8080/"
        },
        "id": "58LvFz30zumq",
        "outputId": "a477eebd-3e5c-4281-f41c-c8a1f939b742"
      },
      "source": [
        "!wget https://www.dropbox.com/s/tuvrbsby4a5axe0/resources.zip\n",
        "!unzip resources.zip"
      ],
      "execution_count": 4,
      "outputs": [
        {
          "output_type": "stream",
          "text": [
            "--2021-02-02 06:51:42--  https://www.dropbox.com/s/tuvrbsby4a5axe0/resources.zip\n",
            "Resolving www.dropbox.com (www.dropbox.com)... 162.125.1.18, 2620:100:601a:18::a27d:712\n",
            "Connecting to www.dropbox.com (www.dropbox.com)|162.125.1.18|:443... connected.\n",
            "HTTP request sent, awaiting response... 301 Moved Permanently\n",
            "Location: /s/raw/tuvrbsby4a5axe0/resources.zip [following]\n",
            "--2021-02-02 06:51:42--  https://www.dropbox.com/s/raw/tuvrbsby4a5axe0/resources.zip\n",
            "Reusing existing connection to www.dropbox.com:443.\n",
            "HTTP request sent, awaiting response... 302 Found\n",
            "Location: https://uc010e798bd177cbc3a199e8ddcf.dl.dropboxusercontent.com/cd/0/inline/BILDRpLpxR3EpKAC-tnbuOU7UMcrQPmA1e-KicqvG7IdNp1t0ioIwO300rohpn7joRdiB9s6_NwHEEInStYcicLL0OgYAICbZE2BpF0Z2rHrdg/file# [following]\n",
            "--2021-02-02 06:51:43--  https://uc010e798bd177cbc3a199e8ddcf.dl.dropboxusercontent.com/cd/0/inline/BILDRpLpxR3EpKAC-tnbuOU7UMcrQPmA1e-KicqvG7IdNp1t0ioIwO300rohpn7joRdiB9s6_NwHEEInStYcicLL0OgYAICbZE2BpF0Z2rHrdg/file\n",
            "Resolving uc010e798bd177cbc3a199e8ddcf.dl.dropboxusercontent.com (uc010e798bd177cbc3a199e8ddcf.dl.dropboxusercontent.com)... 162.125.1.15, 2620:100:601a:15::a27d:70f\n",
            "Connecting to uc010e798bd177cbc3a199e8ddcf.dl.dropboxusercontent.com (uc010e798bd177cbc3a199e8ddcf.dl.dropboxusercontent.com)|162.125.1.15|:443... connected.\n",
            "HTTP request sent, awaiting response... 302 Found\n",
            "Location: /cd/0/inline2/BILuBBHnKrQYjVE_qun_euobuIVPf5uo5yEfot5JwqA4ZLMVgQ2ijDJMFzC9ElFWcyp6jXBDX6dSDv-rxFeTgrURG4jzq1mm-15rJyku1pZejdjbH4riv2Keq-8JYYay1HEY79V2aHw-PcSgGC06Xl9Iv4mmQAyfk7pSrqetWxDTWJ1Gjn-stazzslCbuFOcIXSpb-BA6mMia26FwXZ-AJZIlohlfy9muq8omDFVIFPwM6ADSa2OdOmTLAm29e3GWzEJHFUPlae5A-Xhc-dFZDzWBpZNIOtj0nogtiuKDlRYQKUbuU7JjZGd6Yh-FnNr9bcdh4JhhpGdmrUI6Eba0-Vy/file [following]\n",
            "--2021-02-02 06:51:43--  https://uc010e798bd177cbc3a199e8ddcf.dl.dropboxusercontent.com/cd/0/inline2/BILuBBHnKrQYjVE_qun_euobuIVPf5uo5yEfot5JwqA4ZLMVgQ2ijDJMFzC9ElFWcyp6jXBDX6dSDv-rxFeTgrURG4jzq1mm-15rJyku1pZejdjbH4riv2Keq-8JYYay1HEY79V2aHw-PcSgGC06Xl9Iv4mmQAyfk7pSrqetWxDTWJ1Gjn-stazzslCbuFOcIXSpb-BA6mMia26FwXZ-AJZIlohlfy9muq8omDFVIFPwM6ADSa2OdOmTLAm29e3GWzEJHFUPlae5A-Xhc-dFZDzWBpZNIOtj0nogtiuKDlRYQKUbuU7JjZGd6Yh-FnNr9bcdh4JhhpGdmrUI6Eba0-Vy/file\n",
            "Reusing existing connection to uc010e798bd177cbc3a199e8ddcf.dl.dropboxusercontent.com:443.\n",
            "HTTP request sent, awaiting response... 200 OK\n",
            "Length: 151484222 (144M) [application/zip]\n",
            "Saving to: ‘resources.zip’\n",
            "\n",
            "resources.zip       100%[===================>] 144.47M  66.8MB/s    in 2.2s    \n",
            "\n",
            "2021-02-02 06:51:46 (66.8 MB/s) - ‘resources.zip’ saved [151484222/151484222]\n",
            "\n",
            "Archive:  resources.zip\n",
            "  inflating: basic_ff_embedding.pt   \n",
            "   creating: data/\n",
            " extracting: data/__init__.py        \n",
            "  inflating: data/__init__.pyc       \n",
            "   creating: data/__pycache__/\n",
            "  inflating: data/__pycache__/__init__.cpython-36.pyc  \n",
            "  inflating: data/__pycache__/orchid_corpus.cpython-36.pyc  \n",
            "  inflating: data/orchid97.txt       \n",
            "  inflating: data/orchid_corpus.py   \n",
            "  inflating: data/orchid_corpus.pyc  \n",
            "  inflating: data/orchid_test.txt    \n",
            "  inflating: data/orchid_train.txt   \n",
            "   creating: embeddings/\n",
            " extracting: embeddings/__init__.py  \n",
            "   creating: embeddings/__pycache__/\n",
            "  inflating: embeddings/__pycache__/__init__.cpython-36.pyc  \n",
            "  inflating: embeddings/__pycache__/emb_reader.cpython-36.pyc  \n",
            "  inflating: embeddings/emb_reader.py  \n",
            "  inflating: embeddings/polyglot-th.pkl  \n",
            "   creating: model/\n",
            "  inflating: model/_DS_Store         \n",
            "  inflating: model/crf_basic.model   \n",
            "  inflating: model/crf_neural.model  \n"
          ],
          "name": "stdout"
        }
      ]
    },
    {
      "cell_type": "code",
      "metadata": {
        "id": "H2a9b92hYTg2",
        "colab": {
          "base_uri": "https://localhost:8080/"
        },
        "outputId": "a786ae77-cfb9-4816-c55d-16a9e97608d3"
      },
      "source": [
        "!pip install python-crfsuite\n",
        "!pip install tensorflow-addons\n",
        "!pip install tf2crf"
      ],
      "execution_count": 5,
      "outputs": [
        {
          "output_type": "stream",
          "text": [
            "Collecting python-crfsuite\n",
            "\u001b[?25l  Downloading https://files.pythonhosted.org/packages/95/99/869dde6dbf3e0d07a013c8eebfb0a3d30776334e0097f8432b631a9a3a19/python_crfsuite-0.9.7-cp36-cp36m-manylinux1_x86_64.whl (743kB)\n",
            "\r\u001b[K     |▍                               | 10kB 20.3MB/s eta 0:00:01\r\u001b[K     |▉                               | 20kB 14.1MB/s eta 0:00:01\r\u001b[K     |█▎                              | 30kB 12.6MB/s eta 0:00:01\r\u001b[K     |█▊                              | 40kB 12.0MB/s eta 0:00:01\r\u001b[K     |██▏                             | 51kB 7.8MB/s eta 0:00:01\r\u001b[K     |██▋                             | 61kB 9.0MB/s eta 0:00:01\r\u001b[K     |███                             | 71kB 9.5MB/s eta 0:00:01\r\u001b[K     |███▌                            | 81kB 9.8MB/s eta 0:00:01\r\u001b[K     |████                            | 92kB 9.2MB/s eta 0:00:01\r\u001b[K     |████▍                           | 102kB 8.2MB/s eta 0:00:01\r\u001b[K     |████▉                           | 112kB 8.2MB/s eta 0:00:01\r\u001b[K     |█████▎                          | 122kB 8.2MB/s eta 0:00:01\r\u001b[K     |█████▊                          | 133kB 8.2MB/s eta 0:00:01\r\u001b[K     |██████▏                         | 143kB 8.2MB/s eta 0:00:01\r\u001b[K     |██████▋                         | 153kB 8.2MB/s eta 0:00:01\r\u001b[K     |███████                         | 163kB 8.2MB/s eta 0:00:01\r\u001b[K     |███████▌                        | 174kB 8.2MB/s eta 0:00:01\r\u001b[K     |████████                        | 184kB 8.2MB/s eta 0:00:01\r\u001b[K     |████████▍                       | 194kB 8.2MB/s eta 0:00:01\r\u001b[K     |████████▉                       | 204kB 8.2MB/s eta 0:00:01\r\u001b[K     |█████████▎                      | 215kB 8.2MB/s eta 0:00:01\r\u001b[K     |█████████▊                      | 225kB 8.2MB/s eta 0:00:01\r\u001b[K     |██████████▏                     | 235kB 8.2MB/s eta 0:00:01\r\u001b[K     |██████████▋                     | 245kB 8.2MB/s eta 0:00:01\r\u001b[K     |███████████                     | 256kB 8.2MB/s eta 0:00:01\r\u001b[K     |███████████▌                    | 266kB 8.2MB/s eta 0:00:01\r\u001b[K     |████████████                    | 276kB 8.2MB/s eta 0:00:01\r\u001b[K     |████████████▎                   | 286kB 8.2MB/s eta 0:00:01\r\u001b[K     |████████████▊                   | 296kB 8.2MB/s eta 0:00:01\r\u001b[K     |█████████████▏                  | 307kB 8.2MB/s eta 0:00:01\r\u001b[K     |█████████████▋                  | 317kB 8.2MB/s eta 0:00:01\r\u001b[K     |██████████████                  | 327kB 8.2MB/s eta 0:00:01\r\u001b[K     |██████████████▌                 | 337kB 8.2MB/s eta 0:00:01\r\u001b[K     |███████████████                 | 348kB 8.2MB/s eta 0:00:01\r\u001b[K     |███████████████▍                | 358kB 8.2MB/s eta 0:00:01\r\u001b[K     |███████████████▉                | 368kB 8.2MB/s eta 0:00:01\r\u001b[K     |████████████████▎               | 378kB 8.2MB/s eta 0:00:01\r\u001b[K     |████████████████▊               | 389kB 8.2MB/s eta 0:00:01\r\u001b[K     |█████████████████▏              | 399kB 8.2MB/s eta 0:00:01\r\u001b[K     |█████████████████▋              | 409kB 8.2MB/s eta 0:00:01\r\u001b[K     |██████████████████              | 419kB 8.2MB/s eta 0:00:01\r\u001b[K     |██████████████████▌             | 430kB 8.2MB/s eta 0:00:01\r\u001b[K     |███████████████████             | 440kB 8.2MB/s eta 0:00:01\r\u001b[K     |███████████████████▍            | 450kB 8.2MB/s eta 0:00:01\r\u001b[K     |███████████████████▉            | 460kB 8.2MB/s eta 0:00:01\r\u001b[K     |████████████████████▎           | 471kB 8.2MB/s eta 0:00:01\r\u001b[K     |████████████████████▊           | 481kB 8.2MB/s eta 0:00:01\r\u001b[K     |█████████████████████▏          | 491kB 8.2MB/s eta 0:00:01\r\u001b[K     |█████████████████████▋          | 501kB 8.2MB/s eta 0:00:01\r\u001b[K     |██████████████████████          | 512kB 8.2MB/s eta 0:00:01\r\u001b[K     |██████████████████████▌         | 522kB 8.2MB/s eta 0:00:01\r\u001b[K     |███████████████████████         | 532kB 8.2MB/s eta 0:00:01\r\u001b[K     |███████████████████████▍        | 542kB 8.2MB/s eta 0:00:01\r\u001b[K     |███████████████████████▉        | 552kB 8.2MB/s eta 0:00:01\r\u001b[K     |████████████████████████▎       | 563kB 8.2MB/s eta 0:00:01\r\u001b[K     |████████████████████████▋       | 573kB 8.2MB/s eta 0:00:01\r\u001b[K     |█████████████████████████       | 583kB 8.2MB/s eta 0:00:01\r\u001b[K     |█████████████████████████▌      | 593kB 8.2MB/s eta 0:00:01\r\u001b[K     |██████████████████████████      | 604kB 8.2MB/s eta 0:00:01\r\u001b[K     |██████████████████████████▍     | 614kB 8.2MB/s eta 0:00:01\r\u001b[K     |██████████████████████████▉     | 624kB 8.2MB/s eta 0:00:01\r\u001b[K     |███████████████████████████▎    | 634kB 8.2MB/s eta 0:00:01\r\u001b[K     |███████████████████████████▊    | 645kB 8.2MB/s eta 0:00:01\r\u001b[K     |████████████████████████████▏   | 655kB 8.2MB/s eta 0:00:01\r\u001b[K     |████████████████████████████▋   | 665kB 8.2MB/s eta 0:00:01\r\u001b[K     |█████████████████████████████   | 675kB 8.2MB/s eta 0:00:01\r\u001b[K     |█████████████████████████████▌  | 686kB 8.2MB/s eta 0:00:01\r\u001b[K     |██████████████████████████████  | 696kB 8.2MB/s eta 0:00:01\r\u001b[K     |██████████████████████████████▍ | 706kB 8.2MB/s eta 0:00:01\r\u001b[K     |██████████████████████████████▉ | 716kB 8.2MB/s eta 0:00:01\r\u001b[K     |███████████████████████████████▎| 727kB 8.2MB/s eta 0:00:01\r\u001b[K     |███████████████████████████████▊| 737kB 8.2MB/s eta 0:00:01\r\u001b[K     |████████████████████████████████| 747kB 8.2MB/s \n",
            "\u001b[?25hInstalling collected packages: python-crfsuite\n",
            "Successfully installed python-crfsuite-0.9.7\n",
            "Requirement already satisfied: tensorflow-addons in /usr/local/lib/python3.6/dist-packages (0.8.3)\n",
            "Requirement already satisfied: typeguard in /usr/local/lib/python3.6/dist-packages (from tensorflow-addons) (2.7.1)\n",
            "Collecting tf2crf\n",
            "  Downloading https://files.pythonhosted.org/packages/eb/f5/e9f972be845a2b0ea93c76d26ed6b7bde599a48f70554a30a528117731c8/tf2crf-0.1.29-py2.py3-none-any.whl\n",
            "Requirement already satisfied: tensorflow-addons>=0.8.2 in /usr/local/lib/python3.6/dist-packages (from tf2crf) (0.8.3)\n",
            "Requirement already satisfied: tensorflow>=2.1.0 in /usr/local/lib/python3.6/dist-packages (from tf2crf) (2.4.1)\n",
            "Requirement already satisfied: typeguard in /usr/local/lib/python3.6/dist-packages (from tensorflow-addons>=0.8.2->tf2crf) (2.7.1)\n",
            "Requirement already satisfied: six~=1.15.0 in /usr/local/lib/python3.6/dist-packages (from tensorflow>=2.1.0->tf2crf) (1.15.0)\n",
            "Requirement already satisfied: wrapt~=1.12.1 in /usr/local/lib/python3.6/dist-packages (from tensorflow>=2.1.0->tf2crf) (1.12.1)\n",
            "Requirement already satisfied: absl-py~=0.10 in /usr/local/lib/python3.6/dist-packages (from tensorflow>=2.1.0->tf2crf) (0.10.0)\n",
            "Requirement already satisfied: tensorboard~=2.4 in /usr/local/lib/python3.6/dist-packages (from tensorflow>=2.1.0->tf2crf) (2.4.1)\n",
            "Requirement already satisfied: google-pasta~=0.2 in /usr/local/lib/python3.6/dist-packages (from tensorflow>=2.1.0->tf2crf) (0.2.0)\n",
            "Requirement already satisfied: wheel~=0.35 in /usr/local/lib/python3.6/dist-packages (from tensorflow>=2.1.0->tf2crf) (0.36.2)\n",
            "Requirement already satisfied: grpcio~=1.32.0 in /usr/local/lib/python3.6/dist-packages (from tensorflow>=2.1.0->tf2crf) (1.32.0)\n",
            "Requirement already satisfied: keras-preprocessing~=1.1.2 in /usr/local/lib/python3.6/dist-packages (from tensorflow>=2.1.0->tf2crf) (1.1.2)\n",
            "Requirement already satisfied: tensorflow-estimator<2.5.0,>=2.4.0 in /usr/local/lib/python3.6/dist-packages (from tensorflow>=2.1.0->tf2crf) (2.4.0)\n",
            "Requirement already satisfied: typing-extensions~=3.7.4 in /usr/local/lib/python3.6/dist-packages (from tensorflow>=2.1.0->tf2crf) (3.7.4.3)\n",
            "Requirement already satisfied: h5py~=2.10.0 in /usr/local/lib/python3.6/dist-packages (from tensorflow>=2.1.0->tf2crf) (2.10.0)\n",
            "Requirement already satisfied: flatbuffers~=1.12.0 in /usr/local/lib/python3.6/dist-packages (from tensorflow>=2.1.0->tf2crf) (1.12)\n",
            "Requirement already satisfied: opt-einsum~=3.3.0 in /usr/local/lib/python3.6/dist-packages (from tensorflow>=2.1.0->tf2crf) (3.3.0)\n",
            "Requirement already satisfied: protobuf>=3.9.2 in /usr/local/lib/python3.6/dist-packages (from tensorflow>=2.1.0->tf2crf) (3.12.4)\n",
            "Requirement already satisfied: gast==0.3.3 in /usr/local/lib/python3.6/dist-packages (from tensorflow>=2.1.0->tf2crf) (0.3.3)\n",
            "Requirement already satisfied: termcolor~=1.1.0 in /usr/local/lib/python3.6/dist-packages (from tensorflow>=2.1.0->tf2crf) (1.1.0)\n",
            "Requirement already satisfied: numpy~=1.19.2 in /usr/local/lib/python3.6/dist-packages (from tensorflow>=2.1.0->tf2crf) (1.19.5)\n",
            "Requirement already satisfied: astunparse~=1.6.3 in /usr/local/lib/python3.6/dist-packages (from tensorflow>=2.1.0->tf2crf) (1.6.3)\n",
            "Requirement already satisfied: markdown>=2.6.8 in /usr/local/lib/python3.6/dist-packages (from tensorboard~=2.4->tensorflow>=2.1.0->tf2crf) (3.3.3)\n",
            "Requirement already satisfied: google-auth<2,>=1.6.3 in /usr/local/lib/python3.6/dist-packages (from tensorboard~=2.4->tensorflow>=2.1.0->tf2crf) (1.17.2)\n",
            "Requirement already satisfied: requests<3,>=2.21.0 in /usr/local/lib/python3.6/dist-packages (from tensorboard~=2.4->tensorflow>=2.1.0->tf2crf) (2.23.0)\n",
            "Requirement already satisfied: google-auth-oauthlib<0.5,>=0.4.1 in /usr/local/lib/python3.6/dist-packages (from tensorboard~=2.4->tensorflow>=2.1.0->tf2crf) (0.4.2)\n",
            "Requirement already satisfied: werkzeug>=0.11.15 in /usr/local/lib/python3.6/dist-packages (from tensorboard~=2.4->tensorflow>=2.1.0->tf2crf) (1.0.1)\n",
            "Requirement already satisfied: tensorboard-plugin-wit>=1.6.0 in /usr/local/lib/python3.6/dist-packages (from tensorboard~=2.4->tensorflow>=2.1.0->tf2crf) (1.8.0)\n",
            "Requirement already satisfied: setuptools>=41.0.0 in /usr/local/lib/python3.6/dist-packages (from tensorboard~=2.4->tensorflow>=2.1.0->tf2crf) (51.3.3)\n",
            "Requirement already satisfied: importlib-metadata; python_version < \"3.8\" in /usr/local/lib/python3.6/dist-packages (from markdown>=2.6.8->tensorboard~=2.4->tensorflow>=2.1.0->tf2crf) (3.4.0)\n",
            "Requirement already satisfied: cachetools<5.0,>=2.0.0 in /usr/local/lib/python3.6/dist-packages (from google-auth<2,>=1.6.3->tensorboard~=2.4->tensorflow>=2.1.0->tf2crf) (4.2.1)\n",
            "Requirement already satisfied: rsa<5,>=3.1.4; python_version >= \"3\" in /usr/local/lib/python3.6/dist-packages (from google-auth<2,>=1.6.3->tensorboard~=2.4->tensorflow>=2.1.0->tf2crf) (4.7)\n",
            "Requirement already satisfied: pyasn1-modules>=0.2.1 in /usr/local/lib/python3.6/dist-packages (from google-auth<2,>=1.6.3->tensorboard~=2.4->tensorflow>=2.1.0->tf2crf) (0.2.8)\n",
            "Requirement already satisfied: urllib3!=1.25.0,!=1.25.1,<1.26,>=1.21.1 in /usr/local/lib/python3.6/dist-packages (from requests<3,>=2.21.0->tensorboard~=2.4->tensorflow>=2.1.0->tf2crf) (1.24.3)\n",
            "Requirement already satisfied: certifi>=2017.4.17 in /usr/local/lib/python3.6/dist-packages (from requests<3,>=2.21.0->tensorboard~=2.4->tensorflow>=2.1.0->tf2crf) (2020.12.5)\n",
            "Requirement already satisfied: idna<3,>=2.5 in /usr/local/lib/python3.6/dist-packages (from requests<3,>=2.21.0->tensorboard~=2.4->tensorflow>=2.1.0->tf2crf) (2.10)\n",
            "Requirement already satisfied: chardet<4,>=3.0.2 in /usr/local/lib/python3.6/dist-packages (from requests<3,>=2.21.0->tensorboard~=2.4->tensorflow>=2.1.0->tf2crf) (3.0.4)\n",
            "Requirement already satisfied: requests-oauthlib>=0.7.0 in /usr/local/lib/python3.6/dist-packages (from google-auth-oauthlib<0.5,>=0.4.1->tensorboard~=2.4->tensorflow>=2.1.0->tf2crf) (1.3.0)\n",
            "Requirement already satisfied: zipp>=0.5 in /usr/local/lib/python3.6/dist-packages (from importlib-metadata; python_version < \"3.8\"->markdown>=2.6.8->tensorboard~=2.4->tensorflow>=2.1.0->tf2crf) (3.4.0)\n",
            "Requirement already satisfied: pyasn1>=0.1.3 in /usr/local/lib/python3.6/dist-packages (from rsa<5,>=3.1.4; python_version >= \"3\"->google-auth<2,>=1.6.3->tensorboard~=2.4->tensorflow>=2.1.0->tf2crf) (0.4.8)\n",
            "Requirement already satisfied: oauthlib>=3.0.0 in /usr/local/lib/python3.6/dist-packages (from requests-oauthlib>=0.7.0->google-auth-oauthlib<0.5,>=0.4.1->tensorboard~=2.4->tensorflow>=2.1.0->tf2crf) (3.1.0)\n",
            "Installing collected packages: tf2crf\n",
            "Successfully installed tf2crf-0.1.29\n"
          ],
          "name": "stdout"
        }
      ]
    },
    {
      "cell_type": "code",
      "metadata": {
        "id": "_c7upY0fYsdt"
      },
      "source": [
        "%tensorflow_version 2.x"
      ],
      "execution_count": 6,
      "outputs": []
    },
    {
      "cell_type": "code",
      "metadata": {
        "id": "rJpCbSvJhHPv"
      },
      "source": [
        "from data.orchid_corpus import get_sentences\n",
        "import numpy as np\n",
        "import numpy.random\n",
        "import tensorflow as tf\n",
        "np.random.seed(42)"
      ],
      "execution_count": 7,
      "outputs": []
    },
    {
      "cell_type": "code",
      "metadata": {
        "id": "U4SZz56ThHP0",
        "scrolled": false,
        "colab": {
          "base_uri": "https://localhost:8080/"
        },
        "outputId": "499ea69c-eba8-40a1-e438-8b177dd9c7fc"
      },
      "source": [
        "yunk_emb =np.random.randn(32)\n",
        "train_data = get_sentences('train')\n",
        "test_data = get_sentences('test')\n",
        "print(train_data[0])"
      ],
      "execution_count": 8,
      "outputs": [
        {
          "output_type": "stream",
          "text": [
            "[('การ', 'FIXN'), ('ประชุม', 'VACT'), ('ทาง', 'NCMN'), ('วิชาการ', 'NCMN'), ('<space>', 'PUNC'), ('ครั้ง', 'CFQC'), ('ที่ 1', 'DONM')]\n"
          ],
          "name": "stdout"
        }
      ]
    },
    {
      "cell_type": "markdown",
      "metadata": {
        "id": "awxn_GRIhHP3"
      },
      "source": [
        "Next, we load pretrained weight embedding using pickle. The pretrained weight is a dictionary which map a word to its embedding."
      ]
    },
    {
      "cell_type": "code",
      "metadata": {
        "id": "0GS3lTZshHP4"
      },
      "source": [
        "import pickle\n",
        "fp = open('basic_ff_embedding.pt', 'rb')\n",
        "embeddings = pickle.load(fp)\n",
        "fp.close()"
      ],
      "execution_count": 9,
      "outputs": []
    },
    {
      "cell_type": "markdown",
      "metadata": {
        "id": "5CqTNKsChHP7"
      },
      "source": [
        "The given code below generates an indexed dataset(each word is represented by a number) for training and testing data. The index 0 is reserved for padding to help with variable length sequence. (Additionally, You can read more about padding here [https://machinelearningmastery.com/data-preparation-variable-length-input-sequences-sequence-prediction/])"
      ]
    },
    {
      "cell_type": "markdown",
      "metadata": {
        "id": "IPGUNEZyhHP8"
      },
      "source": [
        "## 2. Prepare Data"
      ]
    },
    {
      "cell_type": "code",
      "metadata": {
        "id": "7fMWn8qehHP9"
      },
      "source": [
        "word_to_idx ={}\n",
        "idx_to_word ={}\n",
        "label_to_idx = {}\n",
        "for sentence in train_data:\n",
        "    for word,pos in sentence:\n",
        "        if word not in word_to_idx:\n",
        "            word_to_idx[word] = len(word_to_idx)+1\n",
        "            idx_to_word[word_to_idx[word]] = word\n",
        "        if pos not in label_to_idx:\n",
        "            label_to_idx[pos] = len(label_to_idx)+1\n",
        "word_to_idx['UNK'] = len(word_to_idx)\n",
        "\n",
        "n_classes = len(label_to_idx.keys())+1"
      ],
      "execution_count": 10,
      "outputs": []
    },
    {
      "cell_type": "markdown",
      "metadata": {
        "id": "QgvZ8v_2hHP_"
      },
      "source": [
        "This section is tweaked a little from the demo, word2features will return word index instead of features, and sent2labels will return a sequence of word indices in the sentence."
      ]
    },
    {
      "cell_type": "code",
      "metadata": {
        "id": "ktf2KkJghHQA"
      },
      "source": [
        "def word2features(sent, i, emb):\n",
        "    word = sent[i][0]\n",
        "    if word in word_to_idx :\n",
        "        return word_to_idx[word]\n",
        "    else :\n",
        "        return word_to_idx['UNK']\n",
        "\n",
        "def sent2features(sent, emb_dict):\n",
        "    return np.asarray([word2features(sent, i, emb_dict) for i in range(len(sent))])\n",
        "\n",
        "def sent2labels(sent):\n",
        "    return numpy.asarray([label_to_idx[label] for (word, label) in sent],dtype='int32')\n",
        "\n",
        "def sent2tokens(sent):\n",
        "    return [word for (word, label) in sent]"
      ],
      "execution_count": 11,
      "outputs": []
    },
    {
      "cell_type": "code",
      "metadata": {
        "id": "cgBw3I9ShHQD",
        "colab": {
          "base_uri": "https://localhost:8080/"
        },
        "outputId": "dc171d90-ca4b-4f6c-c3cb-eb00ebc8096f"
      },
      "source": [
        "sent2features(train_data[100], embeddings)"
      ],
      "execution_count": 12,
      "outputs": [
        {
          "output_type": "execute_result",
          "data": {
            "text/plain": [
              "array([ 29, 327,   5, 328])"
            ]
          },
          "metadata": {
            "tags": []
          },
          "execution_count": 12
        }
      ]
    },
    {
      "cell_type": "markdown",
      "metadata": {
        "id": "3O7oClK-hHQG"
      },
      "source": [
        "Next we create train and test dataset, then we use tensorflow 2 to post-pad the sequence to max sequence with 0. Our labels are changed to a one-hot vector."
      ]
    },
    {
      "cell_type": "code",
      "metadata": {
        "id": "0tJxtPtohHQH",
        "colab": {
          "base_uri": "https://localhost:8080/"
        },
        "outputId": "a90eec98-a8c2-4a01-d8f9-31f6e3c21e2c"
      },
      "source": [
        "%%time\n",
        "x_train = np.asarray([sent2features(sent, embeddings) for sent in train_data])\n",
        "y_train = [sent2labels(sent) for sent in train_data]\n",
        "x_test = [sent2features(sent, embeddings) for sent in test_data]\n",
        "y_test = [sent2labels(sent) for sent in test_data]"
      ],
      "execution_count": 13,
      "outputs": [
        {
          "output_type": "stream",
          "text": [
            "CPU times: user 378 ms, sys: 1.56 ms, total: 380 ms\n",
            "Wall time: 386 ms\n"
          ],
          "name": "stdout"
        },
        {
          "output_type": "stream",
          "text": [
            "/usr/local/lib/python3.6/dist-packages/numpy/core/_asarray.py:83: VisibleDeprecationWarning: Creating an ndarray from ragged nested sequences (which is a list-or-tuple of lists-or-tuples-or ndarrays with different lengths or shapes) is deprecated. If you meant to do this, you must specify 'dtype=object' when creating the ndarray\n",
            "  return array(a, dtype, copy=False, order=order)\n"
          ],
          "name": "stderr"
        }
      ]
    },
    {
      "cell_type": "code",
      "metadata": {
        "id": "DG1gvJ4mhHQJ"
      },
      "source": [
        "x_train=tf.keras.preprocessing.sequence.pad_sequences(x_train, maxlen=None, dtype='int32', padding='post', truncating='pre', value=0.)\n",
        "y_train=tf.keras.preprocessing.sequence.pad_sequences(y_train, maxlen=None, dtype='int32', padding='post', truncating='pre', value=0.)\n",
        "x_test=tf.keras.preprocessing.sequence.pad_sequences(x_test, maxlen=102, dtype='int32', padding='post', truncating='pre', value=0.)\n",
        "y_temp =[]\n",
        "for i in range(len(y_train)):\n",
        "    y_temp.append(np.eye(n_classes)[y_train[i]][np.newaxis,:])\n",
        "y_train = np.asarray(y_temp).reshape(-1,102,n_classes)\n",
        "del(y_temp)"
      ],
      "execution_count": 14,
      "outputs": []
    },
    {
      "cell_type": "code",
      "metadata": {
        "id": "ZU9x6VdehHQM",
        "colab": {
          "base_uri": "https://localhost:8080/"
        },
        "outputId": "c6d95b5f-6988-430c-96f5-b7f7bacc0729"
      },
      "source": [
        "print(x_train[100],x_train.shape)\n",
        "print(y_train[100][3],y_train.shape)"
      ],
      "execution_count": 15,
      "outputs": [
        {
          "output_type": "stream",
          "text": [
            "[ 29 327   5 328   0   0   0   0   0   0   0   0   0   0   0   0   0   0\n",
            "   0   0   0   0   0   0   0   0   0   0   0   0   0   0   0   0   0   0\n",
            "   0   0   0   0   0   0   0   0   0   0   0   0   0   0   0   0   0   0\n",
            "   0   0   0   0   0   0   0   0   0   0   0   0   0   0   0   0   0   0\n",
            "   0   0   0   0   0   0   0   0   0   0   0   0   0   0   0   0   0   0\n",
            "   0   0   0   0   0   0   0   0   0   0   0   0] (18500, 102)\n",
            "[0. 0. 0. 1. 0. 0. 0. 0. 0. 0. 0. 0. 0. 0. 0. 0. 0. 0. 0. 0. 0. 0. 0. 0.\n",
            " 0. 0. 0. 0. 0. 0. 0. 0. 0. 0. 0. 0. 0. 0. 0. 0. 0. 0. 0. 0. 0. 0. 0. 0.] (18500, 102, 48)\n"
          ],
          "name": "stdout"
        }
      ]
    },
    {
      "cell_type": "markdown",
      "metadata": {
        "id": "dx_c3-LwhHQP"
      },
      "source": [
        "## 3. Evaluate"
      ]
    },
    {
      "cell_type": "markdown",
      "metadata": {
        "id": "tvCW24orhHQP"
      },
      "source": [
        "Our output from tf keras is a distribution of problabilities on all possible label. outputToLabel will return an indices of maximum problability from output sequence.\n",
        "\n",
        "evaluation_report is the same as in the demo"
      ]
    },
    {
      "cell_type": "code",
      "metadata": {
        "id": "Iqgp2gd4hHQQ"
      },
      "source": [
        "def outputToLabel(yt,seq_len):\n",
        "    out = []\n",
        "    for i in range(0,len(yt)):\n",
        "        if(i==seq_len):\n",
        "            break\n",
        "        out.append(np.argmax(yt[i]))\n",
        "    return out"
      ],
      "execution_count": 16,
      "outputs": []
    },
    {
      "cell_type": "code",
      "metadata": {
        "id": "pzIL_rsAhHQT"
      },
      "source": [
        "import pandas as pd\n",
        "from IPython.display import display\n",
        "\n",
        "def evaluation_report(y_true, y_pred):\n",
        "    # retrieve all tags in y_true\n",
        "    tag_set = set()\n",
        "    for sent in y_true:\n",
        "        for tag in sent:\n",
        "            tag_set.add(tag)\n",
        "    for sent in y_pred:\n",
        "        for tag in sent:\n",
        "            tag_set.add(tag)\n",
        "    tag_list = sorted(list(tag_set))\n",
        "    \n",
        "    # count correct points\n",
        "    tag_info = dict()\n",
        "    for tag in tag_list:\n",
        "        tag_info[tag] = {'correct_tagged': 0, 'y_true': 0, 'y_pred': 0}\n",
        "\n",
        "    all_correct = 0\n",
        "    all_count = sum([len(sent) for sent in y_true])\n",
        "    for sent_true, sent_pred in zip(y_true, y_pred):\n",
        "        for tag_true, tag_pred in zip(sent_true, sent_pred):\n",
        "            if tag_true == tag_pred:\n",
        "                tag_info[tag_true]['correct_tagged'] += 1\n",
        "                all_correct += 1\n",
        "            tag_info[tag_true]['y_true'] += 1\n",
        "            tag_info[tag_pred]['y_pred'] += 1\n",
        "    accuracy = (all_correct / all_count) * 100\n",
        "            \n",
        "    # summarize and make evaluation result\n",
        "    eval_list = list()\n",
        "    for tag in tag_list:\n",
        "        eval_result = dict()\n",
        "        eval_result['tag'] = tag\n",
        "        eval_result['correct_count'] = tag_info[tag]['correct_tagged']\n",
        "        precision = (tag_info[tag]['correct_tagged']/tag_info[tag]['y_pred'])*100 if tag_info[tag]['y_pred'] else '-'\n",
        "        recall = (tag_info[tag]['correct_tagged']/tag_info[tag]['y_true'])*100 if (tag_info[tag]['y_true'] > 0) else 0\n",
        "        eval_result['precision'] = precision\n",
        "        eval_result['recall'] = recall\n",
        "        eval_result['f_score'] = (2*precision*recall)/(precision+recall) if (type(precision) is float and recall > 0) else '-'\n",
        "        \n",
        "        eval_list.append(eval_result)\n",
        "\n",
        "    eval_list.append({'tag': 'accuracy=%.2f' % accuracy, 'correct_count': '', 'precision': '', 'recall': '', 'f_score': ''})\n",
        "    \n",
        "    df = pd.DataFrame.from_dict(eval_list)\n",
        "    df = df[['tag', 'precision', 'recall', 'f_score', 'correct_count']]\n",
        "    display(df)"
      ],
      "execution_count": 17,
      "outputs": []
    },
    {
      "cell_type": "markdown",
      "metadata": {
        "id": "4YG-RiHdhHQV"
      },
      "source": [
        "## 4. Train a model"
      ]
    },
    {
      "cell_type": "code",
      "metadata": {
        "id": "2HrkAiMFhHQW"
      },
      "source": [
        "from tensorflow.keras.models import Sequential, Model\n",
        "from tensorflow.keras.layers import Embedding, Reshape, Activation, Input, Dense,GRU,Reshape,TimeDistributed,Bidirectional,Dropout,Masking\n",
        "from tensorflow.keras.optimizers import Adam"
      ],
      "execution_count": 18,
      "outputs": []
    },
    {
      "cell_type": "markdown",
      "metadata": {
        "id": "U75Ivn2vhHQZ"
      },
      "source": [
        "The model is this section is separated to two groups\n",
        "\n",
        "- Neural POS Tagger (4.1)\n",
        "- Neural CRF POS Tagger (4.2)"
      ]
    },
    {
      "cell_type": "markdown",
      "metadata": {
        "id": "CLwL3B7rhHQZ"
      },
      "source": [
        "## 4.1.1 Neural POS Tagger  (Example)"
      ]
    },
    {
      "cell_type": "markdown",
      "metadata": {
        "id": "pVoB-1XVhHQa"
      },
      "source": [
        "We create a simple Neural POS Tagger as an example for you. This model dosen't use any pretrained word embbeding so it need to use Embedding layer to train the word embedding from scratch.\n",
        "\n",
        "Instead of using tensorflow.keras.models.Sequential, we use tensorflow.keras.models.Model. The latter is better as it can have multiple input/output, of which Sequential model could not. Due to this reason, the Model class is widely used for building a complex deep learning model."
      ]
    },
    {
      "cell_type": "code",
      "metadata": {
        "id": "DxBvv9qfhHQb",
        "colab": {
          "base_uri": "https://localhost:8080/"
        },
        "outputId": "cee74a36-8705-46a8-d1f2-1f18d9c36b48"
      },
      "source": [
        "inputs = Input(shape=(102,), dtype='int32')\n",
        "output = (Embedding(len(word_to_idx),32,input_length=102,mask_zero=True))(inputs)\n",
        "output = Bidirectional(GRU(32, return_sequences=True))(output)\n",
        "output = Dropout(0.2)(output)\n",
        "output = TimeDistributed(Dense(n_classes,activation='softmax'))(output)\n",
        "model = Model(inputs, output)\n",
        "model.compile(optimizer=Adam(lr=0.001),  loss='categorical_crossentropy', metrics=['categorical_accuracy'])\n",
        "\n",
        "model.summary()\n",
        "model.fit(x_train,y=y_train, batch_size=64,epochs=10,verbose=1)"
      ],
      "execution_count": 19,
      "outputs": [
        {
          "output_type": "stream",
          "text": [
            "Model: \"model\"\n",
            "_________________________________________________________________\n",
            "Layer (type)                 Output Shape              Param #   \n",
            "=================================================================\n",
            "input_1 (InputLayer)         [(None, 102)]             0         \n",
            "_________________________________________________________________\n",
            "embedding (Embedding)        (None, 102, 32)           480608    \n",
            "_________________________________________________________________\n",
            "bidirectional (Bidirectional (None, 102, 64)           12672     \n",
            "_________________________________________________________________\n",
            "dropout (Dropout)            (None, 102, 64)           0         \n",
            "_________________________________________________________________\n",
            "time_distributed (TimeDistri (None, 102, 48)           3120      \n",
            "=================================================================\n",
            "Total params: 496,400\n",
            "Trainable params: 496,400\n",
            "Non-trainable params: 0\n",
            "_________________________________________________________________\n",
            "Epoch 1/10\n",
            "290/290 [==============================] - 21s 25ms/step - loss: 0.3940 - categorical_accuracy: 0.3876\n",
            "Epoch 2/10\n",
            "290/290 [==============================] - 7s 23ms/step - loss: 0.0712 - categorical_accuracy: 0.8888\n",
            "Epoch 3/10\n",
            "290/290 [==============================] - 7s 25ms/step - loss: 0.0404 - categorical_accuracy: 0.9278\n",
            "Epoch 4/10\n",
            "290/290 [==============================] - 7s 23ms/step - loss: 0.0303 - categorical_accuracy: 0.9427\n",
            "Epoch 5/10\n",
            "290/290 [==============================] - 7s 23ms/step - loss: 0.0267 - categorical_accuracy: 0.9482\n",
            "Epoch 6/10\n",
            "290/290 [==============================] - 7s 24ms/step - loss: 0.0235 - categorical_accuracy: 0.9536\n",
            "Epoch 7/10\n",
            "290/290 [==============================] - 7s 23ms/step - loss: 0.0219 - categorical_accuracy: 0.9558\n",
            "Epoch 8/10\n",
            "290/290 [==============================] - 7s 24ms/step - loss: 0.0206 - categorical_accuracy: 0.9572\n",
            "Epoch 9/10\n",
            "290/290 [==============================] - 7s 24ms/step - loss: 0.0194 - categorical_accuracy: 0.9601\n",
            "Epoch 10/10\n",
            "290/290 [==============================] - 7s 24ms/step - loss: 0.0188 - categorical_accuracy: 0.9606\n"
          ],
          "name": "stdout"
        },
        {
          "output_type": "execute_result",
          "data": {
            "text/plain": [
              "<tensorflow.python.keras.callbacks.History at 0x7fb1c8d867b8>"
            ]
          },
          "metadata": {
            "tags": []
          },
          "execution_count": 19
        }
      ]
    },
    {
      "cell_type": "code",
      "metadata": {
        "id": "Wo9Da8MThHQf",
        "colab": {
          "base_uri": "https://localhost:8080/"
        },
        "outputId": "59478c83-317c-4464-9215-ec407ba8a070"
      },
      "source": [
        "%%time\n",
        "model.fit(x_train,y_train,batch_size=64,epochs=10,verbose=1)"
      ],
      "execution_count": 20,
      "outputs": [
        {
          "output_type": "stream",
          "text": [
            "Epoch 1/10\n",
            "290/290 [==============================] - 7s 23ms/step - loss: 0.0180 - categorical_accuracy: 0.9618\n",
            "Epoch 2/10\n",
            "290/290 [==============================] - 7s 23ms/step - loss: 0.0174 - categorical_accuracy: 0.9629\n",
            "Epoch 3/10\n",
            "290/290 [==============================] - 7s 24ms/step - loss: 0.0167 - categorical_accuracy: 0.9643\n",
            "Epoch 4/10\n",
            "290/290 [==============================] - 7s 24ms/step - loss: 0.0161 - categorical_accuracy: 0.9657\n",
            "Epoch 5/10\n",
            "290/290 [==============================] - 7s 24ms/step - loss: 0.0155 - categorical_accuracy: 0.9668\n",
            "Epoch 6/10\n",
            "290/290 [==============================] - 7s 24ms/step - loss: 0.0150 - categorical_accuracy: 0.9677\n",
            "Epoch 7/10\n",
            "290/290 [==============================] - 7s 26ms/step - loss: 0.0145 - categorical_accuracy: 0.9688\n",
            "Epoch 8/10\n",
            "290/290 [==============================] - 7s 23ms/step - loss: 0.0140 - categorical_accuracy: 0.9697\n",
            "Epoch 9/10\n",
            "290/290 [==============================] - 7s 24ms/step - loss: 0.0135 - categorical_accuracy: 0.9708\n",
            "Epoch 10/10\n",
            "290/290 [==============================] - 7s 24ms/step - loss: 0.0131 - categorical_accuracy: 0.9718\n",
            "CPU times: user 1min 32s, sys: 16 s, total: 1min 48s\n",
            "Wall time: 1min 9s\n"
          ],
          "name": "stdout"
        },
        {
          "output_type": "execute_result",
          "data": {
            "text/plain": [
              "<tensorflow.python.keras.callbacks.History at 0x7fb1e1b9f128>"
            ]
          },
          "metadata": {
            "tags": []
          },
          "execution_count": 20
        }
      ]
    },
    {
      "cell_type": "code",
      "metadata": {
        "id": "yusa214hhHQh",
        "colab": {
          "base_uri": "https://localhost:8080/",
          "height": 1000
        },
        "outputId": "1342baeb-474a-412f-de0c-be641822d29b"
      },
      "source": [
        "%%time\n",
        "model.save_weights('./data/my_pos_no_crf.h5')\n",
        "#model.load_weights('./data/my_pos_no_crf.h5')\n",
        "y_pred=model.predict(x_test)\n",
        "ypred = [outputToLabel(y_pred[i],len(y_test[i])) for i in range(len(y_pred))]\n",
        "evaluation_report(y_test, ypred)"
      ],
      "execution_count": 22,
      "outputs": [
        {
          "output_type": "display_data",
          "data": {
            "text/html": [
              "<div>\n",
              "<style scoped>\n",
              "    .dataframe tbody tr th:only-of-type {\n",
              "        vertical-align: middle;\n",
              "    }\n",
              "\n",
              "    .dataframe tbody tr th {\n",
              "        vertical-align: top;\n",
              "    }\n",
              "\n",
              "    .dataframe thead th {\n",
              "        text-align: right;\n",
              "    }\n",
              "</style>\n",
              "<table border=\"1\" class=\"dataframe\">\n",
              "  <thead>\n",
              "    <tr style=\"text-align: right;\">\n",
              "      <th></th>\n",
              "      <th>tag</th>\n",
              "      <th>precision</th>\n",
              "      <th>recall</th>\n",
              "      <th>f_score</th>\n",
              "      <th>correct_count</th>\n",
              "    </tr>\n",
              "  </thead>\n",
              "  <tbody>\n",
              "    <tr>\n",
              "      <th>0</th>\n",
              "      <td>1</td>\n",
              "      <td>99.891</td>\n",
              "      <td>99.4844</td>\n",
              "      <td>99.6873</td>\n",
              "      <td>3666</td>\n",
              "    </tr>\n",
              "    <tr>\n",
              "      <th>1</th>\n",
              "      <td>2</td>\n",
              "      <td>95.297</td>\n",
              "      <td>93.356</td>\n",
              "      <td>94.3165</td>\n",
              "      <td>7700</td>\n",
              "    </tr>\n",
              "    <tr>\n",
              "      <th>2</th>\n",
              "      <td>3</td>\n",
              "      <td>91.2757</td>\n",
              "      <td>95.275</td>\n",
              "      <td>93.2325</td>\n",
              "      <td>16091</td>\n",
              "    </tr>\n",
              "    <tr>\n",
              "      <th>3</th>\n",
              "      <td>4</td>\n",
              "      <td>99.9302</td>\n",
              "      <td>99.644</td>\n",
              "      <td>99.7869</td>\n",
              "      <td>12876</td>\n",
              "    </tr>\n",
              "    <tr>\n",
              "      <th>4</th>\n",
              "      <td>5</td>\n",
              "      <td>88</td>\n",
              "      <td>98.5075</td>\n",
              "      <td>92.9577</td>\n",
              "      <td>66</td>\n",
              "    </tr>\n",
              "    <tr>\n",
              "      <th>5</th>\n",
              "      <td>6</td>\n",
              "      <td>98.1481</td>\n",
              "      <td>91.3793</td>\n",
              "      <td>94.6429</td>\n",
              "      <td>477</td>\n",
              "    </tr>\n",
              "    <tr>\n",
              "      <th>6</th>\n",
              "      <td>7</td>\n",
              "      <td>97.4359</td>\n",
              "      <td>96.8735</td>\n",
              "      <td>97.1539</td>\n",
              "      <td>2014</td>\n",
              "    </tr>\n",
              "    <tr>\n",
              "      <th>7</th>\n",
              "      <td>8</td>\n",
              "      <td>76.4706</td>\n",
              "      <td>53.253</td>\n",
              "      <td>62.7841</td>\n",
              "      <td>221</td>\n",
              "    </tr>\n",
              "    <tr>\n",
              "      <th>8</th>\n",
              "      <td>9</td>\n",
              "      <td>50.5376</td>\n",
              "      <td>63.8587</td>\n",
              "      <td>56.4226</td>\n",
              "      <td>235</td>\n",
              "    </tr>\n",
              "    <tr>\n",
              "      <th>9</th>\n",
              "      <td>10</td>\n",
              "      <td>61.9454</td>\n",
              "      <td>43.2658</td>\n",
              "      <td>50.9474</td>\n",
              "      <td>363</td>\n",
              "    </tr>\n",
              "    <tr>\n",
              "      <th>10</th>\n",
              "      <td>11</td>\n",
              "      <td>60.1399</td>\n",
              "      <td>100</td>\n",
              "      <td>75.1092</td>\n",
              "      <td>86</td>\n",
              "    </tr>\n",
              "    <tr>\n",
              "      <th>11</th>\n",
              "      <td>12</td>\n",
              "      <td>93.8406</td>\n",
              "      <td>97.0037</td>\n",
              "      <td>95.3959</td>\n",
              "      <td>777</td>\n",
              "    </tr>\n",
              "    <tr>\n",
              "      <th>12</th>\n",
              "      <td>13</td>\n",
              "      <td>88.9784</td>\n",
              "      <td>86.0323</td>\n",
              "      <td>87.4805</td>\n",
              "      <td>3092</td>\n",
              "    </tr>\n",
              "    <tr>\n",
              "      <th>13</th>\n",
              "      <td>14</td>\n",
              "      <td>93.5863</td>\n",
              "      <td>95.7005</td>\n",
              "      <td>94.6316</td>\n",
              "      <td>5253</td>\n",
              "    </tr>\n",
              "    <tr>\n",
              "      <th>14</th>\n",
              "      <td>15</td>\n",
              "      <td>82.0459</td>\n",
              "      <td>70.0535</td>\n",
              "      <td>75.5769</td>\n",
              "      <td>786</td>\n",
              "    </tr>\n",
              "    <tr>\n",
              "      <th>15</th>\n",
              "      <td>16</td>\n",
              "      <td>89.8172</td>\n",
              "      <td>85.9284</td>\n",
              "      <td>87.8298</td>\n",
              "      <td>2064</td>\n",
              "    </tr>\n",
              "    <tr>\n",
              "      <th>16</th>\n",
              "      <td>17</td>\n",
              "      <td>97.037</td>\n",
              "      <td>89.726</td>\n",
              "      <td>93.2384</td>\n",
              "      <td>524</td>\n",
              "    </tr>\n",
              "    <tr>\n",
              "      <th>17</th>\n",
              "      <td>18</td>\n",
              "      <td>97.7872</td>\n",
              "      <td>99.4805</td>\n",
              "      <td>98.6266</td>\n",
              "      <td>1149</td>\n",
              "    </tr>\n",
              "    <tr>\n",
              "      <th>18</th>\n",
              "      <td>19</td>\n",
              "      <td>98.5207</td>\n",
              "      <td>96.5217</td>\n",
              "      <td>97.511</td>\n",
              "      <td>333</td>\n",
              "    </tr>\n",
              "    <tr>\n",
              "      <th>19</th>\n",
              "      <td>20</td>\n",
              "      <td>96.6216</td>\n",
              "      <td>96.9492</td>\n",
              "      <td>96.7851</td>\n",
              "      <td>286</td>\n",
              "    </tr>\n",
              "    <tr>\n",
              "      <th>20</th>\n",
              "      <td>21</td>\n",
              "      <td>95.8728</td>\n",
              "      <td>93.5314</td>\n",
              "      <td>94.6876</td>\n",
              "      <td>1417</td>\n",
              "    </tr>\n",
              "    <tr>\n",
              "      <th>21</th>\n",
              "      <td>22</td>\n",
              "      <td>81.0345</td>\n",
              "      <td>82.0961</td>\n",
              "      <td>81.5618</td>\n",
              "      <td>1316</td>\n",
              "    </tr>\n",
              "    <tr>\n",
              "      <th>22</th>\n",
              "      <td>23</td>\n",
              "      <td>89.0751</td>\n",
              "      <td>94.1885</td>\n",
              "      <td>91.5605</td>\n",
              "      <td>1329</td>\n",
              "    </tr>\n",
              "    <tr>\n",
              "      <th>23</th>\n",
              "      <td>24</td>\n",
              "      <td>87.1823</td>\n",
              "      <td>86.2295</td>\n",
              "      <td>86.7033</td>\n",
              "      <td>789</td>\n",
              "    </tr>\n",
              "    <tr>\n",
              "      <th>24</th>\n",
              "      <td>25</td>\n",
              "      <td>83.2402</td>\n",
              "      <td>72.155</td>\n",
              "      <td>77.3022</td>\n",
              "      <td>298</td>\n",
              "    </tr>\n",
              "    <tr>\n",
              "      <th>25</th>\n",
              "      <td>26</td>\n",
              "      <td>84.7368</td>\n",
              "      <td>91.4773</td>\n",
              "      <td>87.9781</td>\n",
              "      <td>161</td>\n",
              "    </tr>\n",
              "    <tr>\n",
              "      <th>26</th>\n",
              "      <td>27</td>\n",
              "      <td>93.913</td>\n",
              "      <td>82.4427</td>\n",
              "      <td>87.8049</td>\n",
              "      <td>108</td>\n",
              "    </tr>\n",
              "    <tr>\n",
              "      <th>27</th>\n",
              "      <td>29</td>\n",
              "      <td>93.6364</td>\n",
              "      <td>97.7848</td>\n",
              "      <td>95.6656</td>\n",
              "      <td>309</td>\n",
              "    </tr>\n",
              "    <tr>\n",
              "      <th>28</th>\n",
              "      <td>30</td>\n",
              "      <td>76</td>\n",
              "      <td>74.5098</td>\n",
              "      <td>75.2475</td>\n",
              "      <td>76</td>\n",
              "    </tr>\n",
              "    <tr>\n",
              "      <th>29</th>\n",
              "      <td>31</td>\n",
              "      <td>59.3103</td>\n",
              "      <td>83.4951</td>\n",
              "      <td>69.3548</td>\n",
              "      <td>86</td>\n",
              "    </tr>\n",
              "    <tr>\n",
              "      <th>30</th>\n",
              "      <td>32</td>\n",
              "      <td>58.7912</td>\n",
              "      <td>60.1124</td>\n",
              "      <td>59.4444</td>\n",
              "      <td>107</td>\n",
              "    </tr>\n",
              "    <tr>\n",
              "      <th>31</th>\n",
              "      <td>33</td>\n",
              "      <td>81.3953</td>\n",
              "      <td>51.4706</td>\n",
              "      <td>63.0631</td>\n",
              "      <td>35</td>\n",
              "    </tr>\n",
              "    <tr>\n",
              "      <th>32</th>\n",
              "      <td>34</td>\n",
              "      <td>93.1298</td>\n",
              "      <td>86.8327</td>\n",
              "      <td>89.8711</td>\n",
              "      <td>488</td>\n",
              "    </tr>\n",
              "    <tr>\n",
              "      <th>33</th>\n",
              "      <td>35</td>\n",
              "      <td>50</td>\n",
              "      <td>55.5556</td>\n",
              "      <td>52.6316</td>\n",
              "      <td>5</td>\n",
              "    </tr>\n",
              "    <tr>\n",
              "      <th>34</th>\n",
              "      <td>36</td>\n",
              "      <td>100</td>\n",
              "      <td>62.5</td>\n",
              "      <td>76.9231</td>\n",
              "      <td>10</td>\n",
              "    </tr>\n",
              "    <tr>\n",
              "      <th>35</th>\n",
              "      <td>37</td>\n",
              "      <td>90.991</td>\n",
              "      <td>99.0196</td>\n",
              "      <td>94.8357</td>\n",
              "      <td>101</td>\n",
              "    </tr>\n",
              "    <tr>\n",
              "      <th>36</th>\n",
              "      <td>38</td>\n",
              "      <td>59.375</td>\n",
              "      <td>48.7179</td>\n",
              "      <td>53.5211</td>\n",
              "      <td>19</td>\n",
              "    </tr>\n",
              "    <tr>\n",
              "      <th>37</th>\n",
              "      <td>39</td>\n",
              "      <td>70.7602</td>\n",
              "      <td>86.4286</td>\n",
              "      <td>77.8135</td>\n",
              "      <td>121</td>\n",
              "    </tr>\n",
              "    <tr>\n",
              "      <th>38</th>\n",
              "      <td>40</td>\n",
              "      <td>100</td>\n",
              "      <td>100</td>\n",
              "      <td>100</td>\n",
              "      <td>280</td>\n",
              "    </tr>\n",
              "    <tr>\n",
              "      <th>39</th>\n",
              "      <td>41</td>\n",
              "      <td>88.8889</td>\n",
              "      <td>80</td>\n",
              "      <td>84.2105</td>\n",
              "      <td>16</td>\n",
              "    </tr>\n",
              "    <tr>\n",
              "      <th>40</th>\n",
              "      <td>42</td>\n",
              "      <td>100</td>\n",
              "      <td>100</td>\n",
              "      <td>100</td>\n",
              "      <td>17</td>\n",
              "    </tr>\n",
              "    <tr>\n",
              "      <th>41</th>\n",
              "      <td>43</td>\n",
              "      <td>42.8571</td>\n",
              "      <td>33.3333</td>\n",
              "      <td>37.5</td>\n",
              "      <td>3</td>\n",
              "    </tr>\n",
              "    <tr>\n",
              "      <th>42</th>\n",
              "      <td>45</td>\n",
              "      <td>-</td>\n",
              "      <td>0</td>\n",
              "      <td>-</td>\n",
              "      <td>0</td>\n",
              "    </tr>\n",
              "    <tr>\n",
              "      <th>43</th>\n",
              "      <td>46</td>\n",
              "      <td>-</td>\n",
              "      <td>0</td>\n",
              "      <td>-</td>\n",
              "      <td>0</td>\n",
              "    </tr>\n",
              "    <tr>\n",
              "      <th>44</th>\n",
              "      <td>accuracy=93.02</td>\n",
              "      <td></td>\n",
              "      <td></td>\n",
              "      <td></td>\n",
              "      <td></td>\n",
              "    </tr>\n",
              "  </tbody>\n",
              "</table>\n",
              "</div>"
            ],
            "text/plain": [
              "               tag precision   recall  f_score correct_count\n",
              "0                1    99.891  99.4844  99.6873          3666\n",
              "1                2    95.297   93.356  94.3165          7700\n",
              "2                3   91.2757   95.275  93.2325         16091\n",
              "3                4   99.9302   99.644  99.7869         12876\n",
              "4                5        88  98.5075  92.9577            66\n",
              "5                6   98.1481  91.3793  94.6429           477\n",
              "6                7   97.4359  96.8735  97.1539          2014\n",
              "7                8   76.4706   53.253  62.7841           221\n",
              "8                9   50.5376  63.8587  56.4226           235\n",
              "9               10   61.9454  43.2658  50.9474           363\n",
              "10              11   60.1399      100  75.1092            86\n",
              "11              12   93.8406  97.0037  95.3959           777\n",
              "12              13   88.9784  86.0323  87.4805          3092\n",
              "13              14   93.5863  95.7005  94.6316          5253\n",
              "14              15   82.0459  70.0535  75.5769           786\n",
              "15              16   89.8172  85.9284  87.8298          2064\n",
              "16              17    97.037   89.726  93.2384           524\n",
              "17              18   97.7872  99.4805  98.6266          1149\n",
              "18              19   98.5207  96.5217   97.511           333\n",
              "19              20   96.6216  96.9492  96.7851           286\n",
              "20              21   95.8728  93.5314  94.6876          1417\n",
              "21              22   81.0345  82.0961  81.5618          1316\n",
              "22              23   89.0751  94.1885  91.5605          1329\n",
              "23              24   87.1823  86.2295  86.7033           789\n",
              "24              25   83.2402   72.155  77.3022           298\n",
              "25              26   84.7368  91.4773  87.9781           161\n",
              "26              27    93.913  82.4427  87.8049           108\n",
              "27              29   93.6364  97.7848  95.6656           309\n",
              "28              30        76  74.5098  75.2475            76\n",
              "29              31   59.3103  83.4951  69.3548            86\n",
              "30              32   58.7912  60.1124  59.4444           107\n",
              "31              33   81.3953  51.4706  63.0631            35\n",
              "32              34   93.1298  86.8327  89.8711           488\n",
              "33              35        50  55.5556  52.6316             5\n",
              "34              36       100     62.5  76.9231            10\n",
              "35              37    90.991  99.0196  94.8357           101\n",
              "36              38    59.375  48.7179  53.5211            19\n",
              "37              39   70.7602  86.4286  77.8135           121\n",
              "38              40       100      100      100           280\n",
              "39              41   88.8889       80  84.2105            16\n",
              "40              42       100      100      100            17\n",
              "41              43   42.8571  33.3333     37.5             3\n",
              "42              45         -        0        -             0\n",
              "43              46         -        0        -             0\n",
              "44  accuracy=93.02                                          "
            ]
          },
          "metadata": {
            "tags": []
          }
        },
        {
          "output_type": "stream",
          "text": [
            "CPU times: user 3.87 s, sys: 196 ms, total: 4.07 s\n",
            "Wall time: 3.71 s\n"
          ],
          "name": "stdout"
        }
      ]
    },
    {
      "cell_type": "markdown",
      "metadata": {
        "id": "H0NKka14hHQw"
      },
      "source": [
        "## 4.2 CRF Viterbi"
      ]
    },
    {
      "cell_type": "markdown",
      "metadata": {
        "id": "ijd1rwTghHQx"
      },
      "source": [
        "Your next task is to incorporate Conditional random fields (CRF) to your model.\n",
        "\n",
        "To use the CRF layer, you need to use an extension repository for tensorflow library, call tf2crf. If you want to see the detailed implementation, you should read the official tensorflow extention of CRF (https://www.tensorflow.org/addons/api_docs/python/tfa/text).\n",
        "\n",
        "tf2crf link :  https://github.com/xuxingya/tf2crf\n",
        "\n",
        "For inference, you should look at crf.py at the method call and view the input/output argmunets. \n",
        "Link : https://github.com/xuxingya/tf2crf/blob/master/tf2crf/crf.py\n",
        "\n"
      ]
    },
    {
      "cell_type": "markdown",
      "metadata": {
        "id": "KuybajePhHQy"
      },
      "source": [
        "### 4.2.1 CRF without pretrained weight\n",
        "### #TODO 1\n",
        "Incoperate CRF layer to your model in 4.1. CRF is quite complex compare to previous example model, so you should train it with more epoch, so it can converge.\n",
        "\n",
        "To finish this excercise you must train the model and show the evaluation report with this model as shown in the example.\n",
        "\n",
        "Do not forget to save this model weight."
      ]
    },
    {
      "cell_type": "code",
      "metadata": {
        "id": "BT-t7A0GXPNT"
      },
      "source": [
        "from tf2crf import CRF, ModelWithCRFLoss"
      ],
      "execution_count": 23,
      "outputs": []
    },
    {
      "cell_type": "code",
      "metadata": {
        "id": "lEV0q1vAhHQy",
        "colab": {
          "base_uri": "https://localhost:8080/"
        },
        "outputId": "f7d5f329-2cdc-4e1a-b758-f0eb8c03b8b7"
      },
      "source": [
        "# INSERT YOUR CODE HERE\n",
        "\n",
        "inputs = Input(shape=(102,), dtype='int32')\n",
        "output = (Embedding(len(word_to_idx),32,input_length=102,mask_zero=True))(inputs)\n",
        "output = Bidirectional(GRU(32, return_sequences=True))(output)\n",
        "output = Dropout(0.2)(output)\n",
        "output = TimeDistributed(Dense(n_classes, activation=None))(output)\n",
        "crf = CRF(dtype='float32')\n",
        "output = crf(output)\n",
        "base_model = Model(inputs, output)\n",
        "model_crf = ModelWithCRFLoss(base_model)\n",
        "model_crf.compile(optimizer=Adam(lr=0.001))\n",
        "\n",
        "model_crf.build((102,1))\n",
        "model_crf.summary()\n",
        "model_crf.fit(x=x_train,y=y_train.argmax(axis=2), batch_size=64,epochs=10,verbose=1)"
      ],
      "execution_count": 33,
      "outputs": [
        {
          "output_type": "stream",
          "text": [
            "WARNING:tensorflow:Model was constructed with shape (None, 102) for input KerasTensor(type_spec=TensorSpec(shape=(None, 102), dtype=tf.int32, name='input_5'), name='input_5', description=\"created by layer 'input_5'\"), but it was called on an input with incompatible shape (102, 1).\n",
            "Model: \"model_with_crf_loss_3\"\n",
            "_________________________________________________________________\n",
            "Layer (type)                 Output Shape              Param #   \n",
            "=================================================================\n",
            "model_4 (Functional)         ((None, 102), (None, 102, 498706    \n",
            "=================================================================\n",
            "Total params: 498,708\n",
            "Trainable params: 498,704\n",
            "Non-trainable params: 4\n",
            "_________________________________________________________________\n",
            "Epoch 1/10\n",
            "290/290 [==============================] - 111s 345ms/step - crf_loss: 25.6719 - accuracy: 0.5722\n",
            "Epoch 2/10\n",
            "290/290 [==============================] - 99s 341ms/step - crf_loss: 5.7208 - accuracy: 0.9088\n",
            "Epoch 3/10\n",
            "290/290 [==============================] - 99s 340ms/step - crf_loss: 3.5697 - accuracy: 0.9372\n",
            "Epoch 4/10\n",
            "290/290 [==============================] - 99s 342ms/step - crf_loss: 2.8536 - accuracy: 0.9469\n",
            "Epoch 5/10\n",
            "290/290 [==============================] - 98s 340ms/step - crf_loss: 2.4877 - accuracy: 0.9523\n",
            "Epoch 6/10\n",
            "290/290 [==============================] - 98s 340ms/step - crf_loss: 2.2528 - accuracy: 0.9556\n",
            "Epoch 7/10\n",
            "290/290 [==============================] - 98s 338ms/step - crf_loss: 2.1030 - accuracy: 0.9575\n",
            "Epoch 8/10\n",
            "290/290 [==============================] - 100s 344ms/step - crf_loss: 1.9836 - accuracy: 0.9591\n",
            "Epoch 9/10\n",
            "290/290 [==============================] - 97s 333ms/step - crf_loss: 1.8977 - accuracy: 0.9609\n",
            "Epoch 10/10\n",
            "290/290 [==============================] - 97s 336ms/step - crf_loss: 1.8070 - accuracy: 0.9624\n"
          ],
          "name": "stdout"
        },
        {
          "output_type": "execute_result",
          "data": {
            "text/plain": [
              "<tensorflow.python.keras.callbacks.History at 0x7fb1dc421710>"
            ]
          },
          "metadata": {
            "tags": []
          },
          "execution_count": 33
        }
      ]
    },
    {
      "cell_type": "code",
      "metadata": {
        "colab": {
          "base_uri": "https://localhost:8080/"
        },
        "id": "Oq5nMXwd-3U-",
        "outputId": "c069472f-d2c7-4acc-98d5-d30bd9b94864"
      },
      "source": [
        "model_crf.fit(x=x_train,y=y_train.argmax(axis=2), batch_size=64,epochs=10,verbose=1)"
      ],
      "execution_count": 34,
      "outputs": [
        {
          "output_type": "stream",
          "text": [
            "Epoch 1/10\n",
            "290/290 [==============================] - 98s 337ms/step - crf_loss: 1.7343 - accuracy: 0.9636\n",
            "Epoch 2/10\n",
            "290/290 [==============================] - 97s 334ms/step - crf_loss: 1.6694 - accuracy: 0.9647\n",
            "Epoch 3/10\n",
            "290/290 [==============================] - 99s 342ms/step - crf_loss: 1.6057 - accuracy: 0.9659\n",
            "Epoch 4/10\n",
            "290/290 [==============================] - 98s 337ms/step - crf_loss: 1.5685 - accuracy: 0.9670\n",
            "Epoch 5/10\n",
            "290/290 [==============================] - 99s 341ms/step - crf_loss: 1.4907 - accuracy: 0.9683\n",
            "Epoch 6/10\n",
            "290/290 [==============================] - 98s 339ms/step - crf_loss: 1.4432 - accuracy: 0.9693\n",
            "Epoch 7/10\n",
            "290/290 [==============================] - 98s 338ms/step - crf_loss: 1.3958 - accuracy: 0.9702\n",
            "Epoch 8/10\n",
            "290/290 [==============================] - 99s 343ms/step - crf_loss: 1.3527 - accuracy: 0.9715\n",
            "Epoch 9/10\n",
            "290/290 [==============================] - 97s 336ms/step - crf_loss: 1.2911 - accuracy: 0.9722\n",
            "Epoch 10/10\n",
            "290/290 [==============================] - 98s 339ms/step - crf_loss: 1.2659 - accuracy: 0.9734\n"
          ],
          "name": "stdout"
        },
        {
          "output_type": "execute_result",
          "data": {
            "text/plain": [
              "<tensorflow.python.keras.callbacks.History at 0x7fb1e00484a8>"
            ]
          },
          "metadata": {
            "tags": []
          },
          "execution_count": 34
        }
      ]
    },
    {
      "cell_type": "code",
      "metadata": {
        "colab": {
          "base_uri": "https://localhost:8080/",
          "height": 1000
        },
        "id": "eVhhhD8HG9VH",
        "outputId": "c413b0d7-f1d8-49e5-9256-0fb614fd6de5"
      },
      "source": [
        "%%time\n",
        "model_crf.save_weights('./data/my_pos_crf.h5')\n",
        "# model_crf.load_weights('./data/my_pos_crf.h5')\n",
        "y_pred=model_crf.predict(x_test)[1]\n",
        "ypred = [outputToLabel(y_pred[i],len(y_test[i])) for i in range(len(y_pred))]\n",
        "evaluation_report(y_test, ypred)"
      ],
      "execution_count": 35,
      "outputs": [
        {
          "output_type": "display_data",
          "data": {
            "text/html": [
              "<div>\n",
              "<style scoped>\n",
              "    .dataframe tbody tr th:only-of-type {\n",
              "        vertical-align: middle;\n",
              "    }\n",
              "\n",
              "    .dataframe tbody tr th {\n",
              "        vertical-align: top;\n",
              "    }\n",
              "\n",
              "    .dataframe thead th {\n",
              "        text-align: right;\n",
              "    }\n",
              "</style>\n",
              "<table border=\"1\" class=\"dataframe\">\n",
              "  <thead>\n",
              "    <tr style=\"text-align: right;\">\n",
              "      <th></th>\n",
              "      <th>tag</th>\n",
              "      <th>precision</th>\n",
              "      <th>recall</th>\n",
              "      <th>f_score</th>\n",
              "      <th>correct_count</th>\n",
              "    </tr>\n",
              "  </thead>\n",
              "  <tbody>\n",
              "    <tr>\n",
              "      <th>0</th>\n",
              "      <td>1</td>\n",
              "      <td>99.8641</td>\n",
              "      <td>99.7015</td>\n",
              "      <td>99.7827</td>\n",
              "      <td>3674</td>\n",
              "    </tr>\n",
              "    <tr>\n",
              "      <th>1</th>\n",
              "      <td>2</td>\n",
              "      <td>94.681</td>\n",
              "      <td>94.0955</td>\n",
              "      <td>94.3874</td>\n",
              "      <td>7761</td>\n",
              "    </tr>\n",
              "    <tr>\n",
              "      <th>2</th>\n",
              "      <td>3</td>\n",
              "      <td>90.7904</td>\n",
              "      <td>96.3704</td>\n",
              "      <td>93.4972</td>\n",
              "      <td>16276</td>\n",
              "    </tr>\n",
              "    <tr>\n",
              "      <th>3</th>\n",
              "      <td>4</td>\n",
              "      <td>99.9146</td>\n",
              "      <td>99.644</td>\n",
              "      <td>99.7791</td>\n",
              "      <td>12876</td>\n",
              "    </tr>\n",
              "    <tr>\n",
              "      <th>4</th>\n",
              "      <td>5</td>\n",
              "      <td>91.6667</td>\n",
              "      <td>98.5075</td>\n",
              "      <td>94.964</td>\n",
              "      <td>66</td>\n",
              "    </tr>\n",
              "    <tr>\n",
              "      <th>5</th>\n",
              "      <td>6</td>\n",
              "      <td>99.1561</td>\n",
              "      <td>90.0383</td>\n",
              "      <td>94.3775</td>\n",
              "      <td>470</td>\n",
              "    </tr>\n",
              "    <tr>\n",
              "      <th>6</th>\n",
              "      <td>7</td>\n",
              "      <td>97.6654</td>\n",
              "      <td>96.5849</td>\n",
              "      <td>97.1221</td>\n",
              "      <td>2008</td>\n",
              "    </tr>\n",
              "    <tr>\n",
              "      <th>7</th>\n",
              "      <td>8</td>\n",
              "      <td>76.5957</td>\n",
              "      <td>52.0482</td>\n",
              "      <td>61.9799</td>\n",
              "      <td>216</td>\n",
              "    </tr>\n",
              "    <tr>\n",
              "      <th>8</th>\n",
              "      <td>9</td>\n",
              "      <td>58.7302</td>\n",
              "      <td>60.3261</td>\n",
              "      <td>59.5174</td>\n",
              "      <td>222</td>\n",
              "    </tr>\n",
              "    <tr>\n",
              "      <th>9</th>\n",
              "      <td>10</td>\n",
              "      <td>61.8214</td>\n",
              "      <td>42.0739</td>\n",
              "      <td>50.0709</td>\n",
              "      <td>353</td>\n",
              "    </tr>\n",
              "    <tr>\n",
              "      <th>10</th>\n",
              "      <td>11</td>\n",
              "      <td>80.3738</td>\n",
              "      <td>100</td>\n",
              "      <td>89.1192</td>\n",
              "      <td>86</td>\n",
              "    </tr>\n",
              "    <tr>\n",
              "      <th>11</th>\n",
              "      <td>12</td>\n",
              "      <td>95.0182</td>\n",
              "      <td>97.628</td>\n",
              "      <td>96.3054</td>\n",
              "      <td>782</td>\n",
              "    </tr>\n",
              "    <tr>\n",
              "      <th>12</th>\n",
              "      <td>13</td>\n",
              "      <td>89.1701</td>\n",
              "      <td>84.3072</td>\n",
              "      <td>86.6705</td>\n",
              "      <td>3030</td>\n",
              "    </tr>\n",
              "    <tr>\n",
              "      <th>13</th>\n",
              "      <td>14</td>\n",
              "      <td>93.4845</td>\n",
              "      <td>94.6256</td>\n",
              "      <td>94.0516</td>\n",
              "      <td>5194</td>\n",
              "    </tr>\n",
              "    <tr>\n",
              "      <th>14</th>\n",
              "      <td>15</td>\n",
              "      <td>80.5031</td>\n",
              "      <td>68.4492</td>\n",
              "      <td>73.9884</td>\n",
              "      <td>768</td>\n",
              "    </tr>\n",
              "    <tr>\n",
              "      <th>15</th>\n",
              "      <td>16</td>\n",
              "      <td>90.031</td>\n",
              "      <td>84.5962</td>\n",
              "      <td>87.229</td>\n",
              "      <td>2032</td>\n",
              "    </tr>\n",
              "    <tr>\n",
              "      <th>16</th>\n",
              "      <td>17</td>\n",
              "      <td>96.4158</td>\n",
              "      <td>92.1233</td>\n",
              "      <td>94.2207</td>\n",
              "      <td>538</td>\n",
              "    </tr>\n",
              "    <tr>\n",
              "      <th>17</th>\n",
              "      <td>18</td>\n",
              "      <td>96.7878</td>\n",
              "      <td>99.1342</td>\n",
              "      <td>97.947</td>\n",
              "      <td>1145</td>\n",
              "    </tr>\n",
              "    <tr>\n",
              "      <th>18</th>\n",
              "      <td>19</td>\n",
              "      <td>97.9104</td>\n",
              "      <td>95.0725</td>\n",
              "      <td>96.4706</td>\n",
              "      <td>328</td>\n",
              "    </tr>\n",
              "    <tr>\n",
              "      <th>19</th>\n",
              "      <td>20</td>\n",
              "      <td>98.2759</td>\n",
              "      <td>96.6102</td>\n",
              "      <td>97.4359</td>\n",
              "      <td>285</td>\n",
              "    </tr>\n",
              "    <tr>\n",
              "      <th>20</th>\n",
              "      <td>21</td>\n",
              "      <td>94.217</td>\n",
              "      <td>95.7096</td>\n",
              "      <td>94.9574</td>\n",
              "      <td>1450</td>\n",
              "    </tr>\n",
              "    <tr>\n",
              "      <th>21</th>\n",
              "      <td>22</td>\n",
              "      <td>81.0018</td>\n",
              "      <td>82.7199</td>\n",
              "      <td>81.8519</td>\n",
              "      <td>1326</td>\n",
              "    </tr>\n",
              "    <tr>\n",
              "      <th>22</th>\n",
              "      <td>23</td>\n",
              "      <td>89.1655</td>\n",
              "      <td>93.905</td>\n",
              "      <td>91.4739</td>\n",
              "      <td>1325</td>\n",
              "    </tr>\n",
              "    <tr>\n",
              "      <th>23</th>\n",
              "      <td>24</td>\n",
              "      <td>86.7102</td>\n",
              "      <td>86.9945</td>\n",
              "      <td>86.8522</td>\n",
              "      <td>796</td>\n",
              "    </tr>\n",
              "    <tr>\n",
              "      <th>24</th>\n",
              "      <td>25</td>\n",
              "      <td>92.1502</td>\n",
              "      <td>65.3753</td>\n",
              "      <td>76.4873</td>\n",
              "      <td>270</td>\n",
              "    </tr>\n",
              "    <tr>\n",
              "      <th>25</th>\n",
              "      <td>26</td>\n",
              "      <td>94.4444</td>\n",
              "      <td>86.9318</td>\n",
              "      <td>90.5325</td>\n",
              "      <td>153</td>\n",
              "    </tr>\n",
              "    <tr>\n",
              "      <th>26</th>\n",
              "      <td>27</td>\n",
              "      <td>93.2203</td>\n",
              "      <td>83.9695</td>\n",
              "      <td>88.3534</td>\n",
              "      <td>110</td>\n",
              "    </tr>\n",
              "    <tr>\n",
              "      <th>27</th>\n",
              "      <td>29</td>\n",
              "      <td>94.7883</td>\n",
              "      <td>92.0886</td>\n",
              "      <td>93.4189</td>\n",
              "      <td>291</td>\n",
              "    </tr>\n",
              "    <tr>\n",
              "      <th>28</th>\n",
              "      <td>30</td>\n",
              "      <td>69.0909</td>\n",
              "      <td>74.5098</td>\n",
              "      <td>71.6981</td>\n",
              "      <td>76</td>\n",
              "    </tr>\n",
              "    <tr>\n",
              "      <th>29</th>\n",
              "      <td>31</td>\n",
              "      <td>66.1157</td>\n",
              "      <td>77.6699</td>\n",
              "      <td>71.4286</td>\n",
              "      <td>80</td>\n",
              "    </tr>\n",
              "    <tr>\n",
              "      <th>30</th>\n",
              "      <td>32</td>\n",
              "      <td>69.7368</td>\n",
              "      <td>59.5506</td>\n",
              "      <td>64.2424</td>\n",
              "      <td>106</td>\n",
              "    </tr>\n",
              "    <tr>\n",
              "      <th>31</th>\n",
              "      <td>33</td>\n",
              "      <td>85</td>\n",
              "      <td>50</td>\n",
              "      <td>62.963</td>\n",
              "      <td>34</td>\n",
              "    </tr>\n",
              "    <tr>\n",
              "      <th>32</th>\n",
              "      <td>34</td>\n",
              "      <td>93.346</td>\n",
              "      <td>87.3665</td>\n",
              "      <td>90.2574</td>\n",
              "      <td>491</td>\n",
              "    </tr>\n",
              "    <tr>\n",
              "      <th>33</th>\n",
              "      <td>35</td>\n",
              "      <td>83.3333</td>\n",
              "      <td>55.5556</td>\n",
              "      <td>66.6667</td>\n",
              "      <td>5</td>\n",
              "    </tr>\n",
              "    <tr>\n",
              "      <th>34</th>\n",
              "      <td>36</td>\n",
              "      <td>100</td>\n",
              "      <td>75</td>\n",
              "      <td>85.7143</td>\n",
              "      <td>12</td>\n",
              "    </tr>\n",
              "    <tr>\n",
              "      <th>35</th>\n",
              "      <td>37</td>\n",
              "      <td>90.1786</td>\n",
              "      <td>99.0196</td>\n",
              "      <td>94.3925</td>\n",
              "      <td>101</td>\n",
              "    </tr>\n",
              "    <tr>\n",
              "      <th>36</th>\n",
              "      <td>38</td>\n",
              "      <td>57.5</td>\n",
              "      <td>58.9744</td>\n",
              "      <td>58.2278</td>\n",
              "      <td>23</td>\n",
              "    </tr>\n",
              "    <tr>\n",
              "      <th>37</th>\n",
              "      <td>39</td>\n",
              "      <td>68.9873</td>\n",
              "      <td>77.8571</td>\n",
              "      <td>73.1544</td>\n",
              "      <td>109</td>\n",
              "    </tr>\n",
              "    <tr>\n",
              "      <th>38</th>\n",
              "      <td>40</td>\n",
              "      <td>100</td>\n",
              "      <td>100</td>\n",
              "      <td>100</td>\n",
              "      <td>280</td>\n",
              "    </tr>\n",
              "    <tr>\n",
              "      <th>39</th>\n",
              "      <td>41</td>\n",
              "      <td>80</td>\n",
              "      <td>80</td>\n",
              "      <td>80</td>\n",
              "      <td>16</td>\n",
              "    </tr>\n",
              "    <tr>\n",
              "      <th>40</th>\n",
              "      <td>42</td>\n",
              "      <td>100</td>\n",
              "      <td>88.2353</td>\n",
              "      <td>93.75</td>\n",
              "      <td>15</td>\n",
              "    </tr>\n",
              "    <tr>\n",
              "      <th>41</th>\n",
              "      <td>43</td>\n",
              "      <td>50</td>\n",
              "      <td>11.1111</td>\n",
              "      <td>18.1818</td>\n",
              "      <td>1</td>\n",
              "    </tr>\n",
              "    <tr>\n",
              "      <th>42</th>\n",
              "      <td>45</td>\n",
              "      <td>-</td>\n",
              "      <td>0</td>\n",
              "      <td>-</td>\n",
              "      <td>0</td>\n",
              "    </tr>\n",
              "    <tr>\n",
              "      <th>43</th>\n",
              "      <td>46</td>\n",
              "      <td>-</td>\n",
              "      <td>0</td>\n",
              "      <td>-</td>\n",
              "      <td>0</td>\n",
              "    </tr>\n",
              "    <tr>\n",
              "      <th>44</th>\n",
              "      <td>accuracy=93.06</td>\n",
              "      <td></td>\n",
              "      <td></td>\n",
              "      <td></td>\n",
              "      <td></td>\n",
              "    </tr>\n",
              "  </tbody>\n",
              "</table>\n",
              "</div>"
            ],
            "text/plain": [
              "               tag precision   recall  f_score correct_count\n",
              "0                1   99.8641  99.7015  99.7827          3674\n",
              "1                2    94.681  94.0955  94.3874          7761\n",
              "2                3   90.7904  96.3704  93.4972         16276\n",
              "3                4   99.9146   99.644  99.7791         12876\n",
              "4                5   91.6667  98.5075   94.964            66\n",
              "5                6   99.1561  90.0383  94.3775           470\n",
              "6                7   97.6654  96.5849  97.1221          2008\n",
              "7                8   76.5957  52.0482  61.9799           216\n",
              "8                9   58.7302  60.3261  59.5174           222\n",
              "9               10   61.8214  42.0739  50.0709           353\n",
              "10              11   80.3738      100  89.1192            86\n",
              "11              12   95.0182   97.628  96.3054           782\n",
              "12              13   89.1701  84.3072  86.6705          3030\n",
              "13              14   93.4845  94.6256  94.0516          5194\n",
              "14              15   80.5031  68.4492  73.9884           768\n",
              "15              16    90.031  84.5962   87.229          2032\n",
              "16              17   96.4158  92.1233  94.2207           538\n",
              "17              18   96.7878  99.1342   97.947          1145\n",
              "18              19   97.9104  95.0725  96.4706           328\n",
              "19              20   98.2759  96.6102  97.4359           285\n",
              "20              21    94.217  95.7096  94.9574          1450\n",
              "21              22   81.0018  82.7199  81.8519          1326\n",
              "22              23   89.1655   93.905  91.4739          1325\n",
              "23              24   86.7102  86.9945  86.8522           796\n",
              "24              25   92.1502  65.3753  76.4873           270\n",
              "25              26   94.4444  86.9318  90.5325           153\n",
              "26              27   93.2203  83.9695  88.3534           110\n",
              "27              29   94.7883  92.0886  93.4189           291\n",
              "28              30   69.0909  74.5098  71.6981            76\n",
              "29              31   66.1157  77.6699  71.4286            80\n",
              "30              32   69.7368  59.5506  64.2424           106\n",
              "31              33        85       50   62.963            34\n",
              "32              34    93.346  87.3665  90.2574           491\n",
              "33              35   83.3333  55.5556  66.6667             5\n",
              "34              36       100       75  85.7143            12\n",
              "35              37   90.1786  99.0196  94.3925           101\n",
              "36              38      57.5  58.9744  58.2278            23\n",
              "37              39   68.9873  77.8571  73.1544           109\n",
              "38              40       100      100      100           280\n",
              "39              41        80       80       80            16\n",
              "40              42       100  88.2353    93.75            15\n",
              "41              43        50  11.1111  18.1818             1\n",
              "42              45         -        0        -             0\n",
              "43              46         -        0        -             0\n",
              "44  accuracy=93.06                                          "
            ]
          },
          "metadata": {
            "tags": []
          }
        },
        {
          "output_type": "stream",
          "text": [
            "CPU times: user 23.5 s, sys: 4.11 s, total: 27.6 s\n",
            "Wall time: 16.9 s\n"
          ],
          "name": "stdout"
        }
      ]
    },
    {
      "cell_type": "markdown",
      "metadata": {
        "id": "qOnHO-__kj7T"
      },
      "source": [
        "\n",
        "### 4.2.2 CRF with pretrained weight\n",
        "\n",
        "### #TODO 2\n",
        "\n",
        "We would like you create a neural CRF POS tagger model  with the pretrained word embedding as an input and the word embedding is trainable (not fixed). To finish this excercise you must train the model and show the evaluation report with this model as shown in the example.\n",
        "\n",
        "Please note that the given pretrained word embedding only have weights for the vocabuary in BEST corpus.\n",
        "\n",
        "Optionally, you can use your own pretrained word embedding.\n",
        "\n",
        "#### Hint: You can get the embedding from get_embeddings function from embeddings/emb_reader.py . \n",
        "\n",
        "(You may want to read about Tensorflow Masking layer and Trainable parameter)"
      ]
    },
    {
      "cell_type": "code",
      "metadata": {
        "colab": {
          "base_uri": "https://localhost:8080/"
        },
        "id": "d5I3gAXSZqQS",
        "outputId": "7d123dfe-d7d9-4f71-eada-0070861ae2e5"
      },
      "source": [
        "from embeddings.emb_reader import get_embeddings\n",
        "pretrained_embeddings = get_embeddings()\n",
        "(hits, misses) = (0, 0)\n",
        "num_tokens = len(word_to_idx)\n",
        "embedding_dim = pretrained_embeddings[list(pretrained_embeddings.keys())[0]].shape[0]\n",
        "embedding_matrix = np.zeros((num_tokens, embedding_dim))\n",
        "\n",
        "for word, i in word_to_idx.items():\n",
        "    embedding_vector = pretrained_embeddings.get(word)\n",
        "    if embedding_vector is not None:\n",
        "        embedding_matrix[i] = embedding_vector\n",
        "        hits += 1\n",
        "    else:\n",
        "        misses += 1\n",
        "print(\"Converted %d words (%s misses)\" % (hits, misses))"
      ],
      "execution_count": 36,
      "outputs": [
        {
          "output_type": "stream",
          "text": [
            "Converted 3706 words (11313 misses)\n"
          ],
          "name": "stdout"
        }
      ]
    },
    {
      "cell_type": "code",
      "metadata": {
        "id": "KVBAv3a9kanH",
        "colab": {
          "base_uri": "https://localhost:8080/"
        },
        "outputId": "11ee829b-69cd-4b65-bfc2-fac22d98286f"
      },
      "source": [
        "# INSERT YOUR CODE HERE\n",
        "inputs = Input(shape=(102,), dtype='int32')\n",
        "output = (Embedding(num_tokens, embedding_dim,input_length=102,\n",
        "                    embeddings_initializer=tf.keras.initializers.Constant(embedding_matrix),\n",
        "                    trainable=True, mask_zero=True))(inputs)\n",
        "output = Bidirectional(GRU(32, return_sequences=True))(output)\n",
        "output = Dropout(0.2)(output)\n",
        "output = TimeDistributed(Dense(n_classes, activation=None))(output)\n",
        "crf = CRF(dtype='float32')\n",
        "output = crf(output)\n",
        "base_model = Model(inputs, output)\n",
        "model_crf_pre = ModelWithCRFLoss(base_model)\n",
        "model_crf_pre.compile(optimizer=Adam(lr=0.001))\n",
        "\n",
        "model_crf_pre.build((102,1))\n",
        "model_crf_pre.summary()\n",
        "model_crf_pre.fit(x=x_train,y=y_train.argmax(axis=2), batch_size=64,epochs=10,verbose=1)"
      ],
      "execution_count": 37,
      "outputs": [
        {
          "output_type": "stream",
          "text": [
            "WARNING:tensorflow:Model was constructed with shape (None, 102) for input KerasTensor(type_spec=TensorSpec(shape=(None, 102), dtype=tf.int32, name='input_6'), name='input_6', description=\"created by layer 'input_6'\"), but it was called on an input with incompatible shape (102, 1).\n",
            "Model: \"model_with_crf_loss_4\"\n",
            "_________________________________________________________________\n",
            "Layer (type)                 Output Shape              Param #   \n",
            "=================================================================\n",
            "model_5 (Functional)         ((None, 102), (None, 102, 985458    \n",
            "=================================================================\n",
            "Total params: 985,460\n",
            "Trainable params: 985,456\n",
            "Non-trainable params: 4\n",
            "_________________________________________________________________\n",
            "Epoch 1/10\n",
            "290/290 [==============================] - 108s 340ms/step - crf_loss: 21.7243 - accuracy: 0.6452\n",
            "Epoch 2/10\n",
            "290/290 [==============================] - 100s 344ms/step - crf_loss: 4.8584 - accuracy: 0.9195\n",
            "Epoch 3/10\n",
            "290/290 [==============================] - 99s 342ms/step - crf_loss: 3.1912 - accuracy: 0.9425\n",
            "Epoch 4/10\n",
            "290/290 [==============================] - 99s 343ms/step - crf_loss: 2.6055 - accuracy: 0.9507\n",
            "Epoch 5/10\n",
            "290/290 [==============================] - 98s 339ms/step - crf_loss: 2.2992 - accuracy: 0.9545\n",
            "Epoch 6/10\n",
            "290/290 [==============================] - 101s 348ms/step - crf_loss: 2.1139 - accuracy: 0.9578\n",
            "Epoch 7/10\n",
            "290/290 [==============================] - 99s 340ms/step - crf_loss: 1.9828 - accuracy: 0.9597\n",
            "Epoch 8/10\n",
            "290/290 [==============================] - 100s 345ms/step - crf_loss: 1.8823 - accuracy: 0.9613\n",
            "Epoch 9/10\n",
            "290/290 [==============================] - 98s 337ms/step - crf_loss: 1.7697 - accuracy: 0.9632\n",
            "Epoch 10/10\n",
            "290/290 [==============================] - 100s 344ms/step - crf_loss: 1.6935 - accuracy: 0.9647\n"
          ],
          "name": "stdout"
        },
        {
          "output_type": "execute_result",
          "data": {
            "text/plain": [
              "<tensorflow.python.keras.callbacks.History at 0x7fb1def63d30>"
            ]
          },
          "metadata": {
            "tags": []
          },
          "execution_count": 37
        }
      ]
    },
    {
      "cell_type": "code",
      "metadata": {
        "colab": {
          "base_uri": "https://localhost:8080/",
          "height": 1000
        },
        "id": "alrUXBkTYr6t",
        "outputId": "1827a010-f315-424d-e7e8-87347fbd4581"
      },
      "source": [
        "%%time\n",
        "model_crf_pre.save_weights('./data/my_pos_crf_pre.h5')\n",
        "# model_crf_pre.load_weights('./data/my_pos_crf_pre.h5')\n",
        "result = model_crf_pre.predict(x_test) #crf will return 4 items\n",
        "y_pred = result[1]\n",
        "ypred = [outputToLabel(y_pred[i],len(y_test[i])) for i in range(len(y_pred))]\n",
        "evaluation_report(y_test, ypred)"
      ],
      "execution_count": 39,
      "outputs": [
        {
          "output_type": "display_data",
          "data": {
            "text/html": [
              "<div>\n",
              "<style scoped>\n",
              "    .dataframe tbody tr th:only-of-type {\n",
              "        vertical-align: middle;\n",
              "    }\n",
              "\n",
              "    .dataframe tbody tr th {\n",
              "        vertical-align: top;\n",
              "    }\n",
              "\n",
              "    .dataframe thead th {\n",
              "        text-align: right;\n",
              "    }\n",
              "</style>\n",
              "<table border=\"1\" class=\"dataframe\">\n",
              "  <thead>\n",
              "    <tr style=\"text-align: right;\">\n",
              "      <th></th>\n",
              "      <th>tag</th>\n",
              "      <th>precision</th>\n",
              "      <th>recall</th>\n",
              "      <th>f_score</th>\n",
              "      <th>correct_count</th>\n",
              "    </tr>\n",
              "  </thead>\n",
              "  <tbody>\n",
              "    <tr>\n",
              "      <th>0</th>\n",
              "      <td>1</td>\n",
              "      <td>99.8641</td>\n",
              "      <td>99.6744</td>\n",
              "      <td>99.7691</td>\n",
              "      <td>3673</td>\n",
              "    </tr>\n",
              "    <tr>\n",
              "      <th>1</th>\n",
              "      <td>2</td>\n",
              "      <td>94.388</td>\n",
              "      <td>94.6169</td>\n",
              "      <td>94.5023</td>\n",
              "      <td>7804</td>\n",
              "    </tr>\n",
              "    <tr>\n",
              "      <th>2</th>\n",
              "      <td>3</td>\n",
              "      <td>90.4903</td>\n",
              "      <td>96.0625</td>\n",
              "      <td>93.1932</td>\n",
              "      <td>16224</td>\n",
              "    </tr>\n",
              "    <tr>\n",
              "      <th>3</th>\n",
              "      <td>4</td>\n",
              "      <td>99.9922</td>\n",
              "      <td>99.6363</td>\n",
              "      <td>99.8139</td>\n",
              "      <td>12875</td>\n",
              "    </tr>\n",
              "    <tr>\n",
              "      <th>4</th>\n",
              "      <td>5</td>\n",
              "      <td>88</td>\n",
              "      <td>98.5075</td>\n",
              "      <td>92.9577</td>\n",
              "      <td>66</td>\n",
              "    </tr>\n",
              "    <tr>\n",
              "      <th>5</th>\n",
              "      <td>6</td>\n",
              "      <td>99.568</td>\n",
              "      <td>88.3142</td>\n",
              "      <td>93.6041</td>\n",
              "      <td>461</td>\n",
              "    </tr>\n",
              "    <tr>\n",
              "      <th>6</th>\n",
              "      <td>7</td>\n",
              "      <td>97.2662</td>\n",
              "      <td>97.5469</td>\n",
              "      <td>97.4063</td>\n",
              "      <td>2028</td>\n",
              "    </tr>\n",
              "    <tr>\n",
              "      <th>7</th>\n",
              "      <td>8</td>\n",
              "      <td>70.7246</td>\n",
              "      <td>58.7952</td>\n",
              "      <td>64.2105</td>\n",
              "      <td>244</td>\n",
              "    </tr>\n",
              "    <tr>\n",
              "      <th>8</th>\n",
              "      <td>9</td>\n",
              "      <td>68.9024</td>\n",
              "      <td>61.413</td>\n",
              "      <td>64.9425</td>\n",
              "      <td>226</td>\n",
              "    </tr>\n",
              "    <tr>\n",
              "      <th>9</th>\n",
              "      <td>10</td>\n",
              "      <td>61.6088</td>\n",
              "      <td>40.1669</td>\n",
              "      <td>48.6291</td>\n",
              "      <td>337</td>\n",
              "    </tr>\n",
              "    <tr>\n",
              "      <th>10</th>\n",
              "      <td>11</td>\n",
              "      <td>83.4951</td>\n",
              "      <td>100</td>\n",
              "      <td>91.0053</td>\n",
              "      <td>86</td>\n",
              "    </tr>\n",
              "    <tr>\n",
              "      <th>11</th>\n",
              "      <td>12</td>\n",
              "      <td>96.5686</td>\n",
              "      <td>98.377</td>\n",
              "      <td>97.4644</td>\n",
              "      <td>788</td>\n",
              "    </tr>\n",
              "    <tr>\n",
              "      <th>12</th>\n",
              "      <td>13</td>\n",
              "      <td>90.3529</td>\n",
              "      <td>85.4758</td>\n",
              "      <td>87.8467</td>\n",
              "      <td>3072</td>\n",
              "    </tr>\n",
              "    <tr>\n",
              "      <th>13</th>\n",
              "      <td>14</td>\n",
              "      <td>94.0641</td>\n",
              "      <td>94.1155</td>\n",
              "      <td>94.0898</td>\n",
              "      <td>5166</td>\n",
              "    </tr>\n",
              "    <tr>\n",
              "      <th>14</th>\n",
              "      <td>15</td>\n",
              "      <td>83.7752</td>\n",
              "      <td>70.41</td>\n",
              "      <td>76.5133</td>\n",
              "      <td>790</td>\n",
              "    </tr>\n",
              "    <tr>\n",
              "      <th>15</th>\n",
              "      <td>16</td>\n",
              "      <td>86.7194</td>\n",
              "      <td>86.7194</td>\n",
              "      <td>86.7194</td>\n",
              "      <td>2083</td>\n",
              "    </tr>\n",
              "    <tr>\n",
              "      <th>16</th>\n",
              "      <td>17</td>\n",
              "      <td>97.9592</td>\n",
              "      <td>82.1918</td>\n",
              "      <td>89.3855</td>\n",
              "      <td>480</td>\n",
              "    </tr>\n",
              "    <tr>\n",
              "      <th>17</th>\n",
              "      <td>18</td>\n",
              "      <td>96.7089</td>\n",
              "      <td>99.2208</td>\n",
              "      <td>97.9487</td>\n",
              "      <td>1146</td>\n",
              "    </tr>\n",
              "    <tr>\n",
              "      <th>18</th>\n",
              "      <td>19</td>\n",
              "      <td>97.6608</td>\n",
              "      <td>96.8116</td>\n",
              "      <td>97.2344</td>\n",
              "      <td>334</td>\n",
              "    </tr>\n",
              "    <tr>\n",
              "      <th>19</th>\n",
              "      <td>20</td>\n",
              "      <td>97.6109</td>\n",
              "      <td>96.9492</td>\n",
              "      <td>97.2789</td>\n",
              "      <td>286</td>\n",
              "    </tr>\n",
              "    <tr>\n",
              "      <th>20</th>\n",
              "      <td>21</td>\n",
              "      <td>93.655</td>\n",
              "      <td>93.5314</td>\n",
              "      <td>93.5931</td>\n",
              "      <td>1417</td>\n",
              "    </tr>\n",
              "    <tr>\n",
              "      <th>21</th>\n",
              "      <td>22</td>\n",
              "      <td>81.1284</td>\n",
              "      <td>78.0412</td>\n",
              "      <td>79.5548</td>\n",
              "      <td>1251</td>\n",
              "    </tr>\n",
              "    <tr>\n",
              "      <th>22</th>\n",
              "      <td>23</td>\n",
              "      <td>88.6394</td>\n",
              "      <td>95.1099</td>\n",
              "      <td>91.7607</td>\n",
              "      <td>1342</td>\n",
              "    </tr>\n",
              "    <tr>\n",
              "      <th>23</th>\n",
              "      <td>24</td>\n",
              "      <td>94.7433</td>\n",
              "      <td>84.6995</td>\n",
              "      <td>89.4403</td>\n",
              "      <td>775</td>\n",
              "    </tr>\n",
              "    <tr>\n",
              "      <th>24</th>\n",
              "      <td>25</td>\n",
              "      <td>89.4081</td>\n",
              "      <td>69.4915</td>\n",
              "      <td>78.2016</td>\n",
              "      <td>287</td>\n",
              "    </tr>\n",
              "    <tr>\n",
              "      <th>25</th>\n",
              "      <td>26</td>\n",
              "      <td>94.8276</td>\n",
              "      <td>93.75</td>\n",
              "      <td>94.2857</td>\n",
              "      <td>165</td>\n",
              "    </tr>\n",
              "    <tr>\n",
              "      <th>26</th>\n",
              "      <td>27</td>\n",
              "      <td>93.3333</td>\n",
              "      <td>74.8092</td>\n",
              "      <td>83.0508</td>\n",
              "      <td>98</td>\n",
              "    </tr>\n",
              "    <tr>\n",
              "      <th>27</th>\n",
              "      <td>29</td>\n",
              "      <td>94.2249</td>\n",
              "      <td>98.1013</td>\n",
              "      <td>96.124</td>\n",
              "      <td>310</td>\n",
              "    </tr>\n",
              "    <tr>\n",
              "      <th>28</th>\n",
              "      <td>30</td>\n",
              "      <td>71.1538</td>\n",
              "      <td>72.549</td>\n",
              "      <td>71.8447</td>\n",
              "      <td>74</td>\n",
              "    </tr>\n",
              "    <tr>\n",
              "      <th>29</th>\n",
              "      <td>31</td>\n",
              "      <td>45.8333</td>\n",
              "      <td>85.4369</td>\n",
              "      <td>59.661</td>\n",
              "      <td>88</td>\n",
              "    </tr>\n",
              "    <tr>\n",
              "      <th>30</th>\n",
              "      <td>32</td>\n",
              "      <td>84.6154</td>\n",
              "      <td>55.618</td>\n",
              "      <td>67.1186</td>\n",
              "      <td>99</td>\n",
              "    </tr>\n",
              "    <tr>\n",
              "      <th>31</th>\n",
              "      <td>33</td>\n",
              "      <td>92.1053</td>\n",
              "      <td>51.4706</td>\n",
              "      <td>66.0377</td>\n",
              "      <td>35</td>\n",
              "    </tr>\n",
              "    <tr>\n",
              "      <th>32</th>\n",
              "      <td>34</td>\n",
              "      <td>89.8778</td>\n",
              "      <td>91.637</td>\n",
              "      <td>90.7489</td>\n",
              "      <td>515</td>\n",
              "    </tr>\n",
              "    <tr>\n",
              "      <th>33</th>\n",
              "      <td>35</td>\n",
              "      <td>50</td>\n",
              "      <td>55.5556</td>\n",
              "      <td>52.6316</td>\n",
              "      <td>5</td>\n",
              "    </tr>\n",
              "    <tr>\n",
              "      <th>34</th>\n",
              "      <td>36</td>\n",
              "      <td>100</td>\n",
              "      <td>100</td>\n",
              "      <td>100</td>\n",
              "      <td>16</td>\n",
              "    </tr>\n",
              "    <tr>\n",
              "      <th>35</th>\n",
              "      <td>37</td>\n",
              "      <td>90.991</td>\n",
              "      <td>99.0196</td>\n",
              "      <td>94.8357</td>\n",
              "      <td>101</td>\n",
              "    </tr>\n",
              "    <tr>\n",
              "      <th>36</th>\n",
              "      <td>38</td>\n",
              "      <td>51.1628</td>\n",
              "      <td>56.4103</td>\n",
              "      <td>53.6585</td>\n",
              "      <td>22</td>\n",
              "    </tr>\n",
              "    <tr>\n",
              "      <th>37</th>\n",
              "      <td>39</td>\n",
              "      <td>80.8824</td>\n",
              "      <td>78.5714</td>\n",
              "      <td>79.7101</td>\n",
              "      <td>110</td>\n",
              "    </tr>\n",
              "    <tr>\n",
              "      <th>38</th>\n",
              "      <td>40</td>\n",
              "      <td>100</td>\n",
              "      <td>100</td>\n",
              "      <td>100</td>\n",
              "      <td>280</td>\n",
              "    </tr>\n",
              "    <tr>\n",
              "      <th>39</th>\n",
              "      <td>41</td>\n",
              "      <td>76.1905</td>\n",
              "      <td>80</td>\n",
              "      <td>78.0488</td>\n",
              "      <td>16</td>\n",
              "    </tr>\n",
              "    <tr>\n",
              "      <th>40</th>\n",
              "      <td>42</td>\n",
              "      <td>100</td>\n",
              "      <td>82.3529</td>\n",
              "      <td>90.3226</td>\n",
              "      <td>14</td>\n",
              "    </tr>\n",
              "    <tr>\n",
              "      <th>41</th>\n",
              "      <td>43</td>\n",
              "      <td>0</td>\n",
              "      <td>0</td>\n",
              "      <td>-</td>\n",
              "      <td>0</td>\n",
              "    </tr>\n",
              "    <tr>\n",
              "      <th>42</th>\n",
              "      <td>45</td>\n",
              "      <td>-</td>\n",
              "      <td>0</td>\n",
              "      <td>-</td>\n",
              "      <td>0</td>\n",
              "    </tr>\n",
              "    <tr>\n",
              "      <th>43</th>\n",
              "      <td>46</td>\n",
              "      <td>-</td>\n",
              "      <td>0</td>\n",
              "      <td>-</td>\n",
              "      <td>0</td>\n",
              "    </tr>\n",
              "    <tr>\n",
              "      <th>44</th>\n",
              "      <td>accuracy=93.08</td>\n",
              "      <td></td>\n",
              "      <td></td>\n",
              "      <td></td>\n",
              "      <td></td>\n",
              "    </tr>\n",
              "  </tbody>\n",
              "</table>\n",
              "</div>"
            ],
            "text/plain": [
              "               tag precision   recall  f_score correct_count\n",
              "0                1   99.8641  99.6744  99.7691          3673\n",
              "1                2    94.388  94.6169  94.5023          7804\n",
              "2                3   90.4903  96.0625  93.1932         16224\n",
              "3                4   99.9922  99.6363  99.8139         12875\n",
              "4                5        88  98.5075  92.9577            66\n",
              "5                6    99.568  88.3142  93.6041           461\n",
              "6                7   97.2662  97.5469  97.4063          2028\n",
              "7                8   70.7246  58.7952  64.2105           244\n",
              "8                9   68.9024   61.413  64.9425           226\n",
              "9               10   61.6088  40.1669  48.6291           337\n",
              "10              11   83.4951      100  91.0053            86\n",
              "11              12   96.5686   98.377  97.4644           788\n",
              "12              13   90.3529  85.4758  87.8467          3072\n",
              "13              14   94.0641  94.1155  94.0898          5166\n",
              "14              15   83.7752    70.41  76.5133           790\n",
              "15              16   86.7194  86.7194  86.7194          2083\n",
              "16              17   97.9592  82.1918  89.3855           480\n",
              "17              18   96.7089  99.2208  97.9487          1146\n",
              "18              19   97.6608  96.8116  97.2344           334\n",
              "19              20   97.6109  96.9492  97.2789           286\n",
              "20              21    93.655  93.5314  93.5931          1417\n",
              "21              22   81.1284  78.0412  79.5548          1251\n",
              "22              23   88.6394  95.1099  91.7607          1342\n",
              "23              24   94.7433  84.6995  89.4403           775\n",
              "24              25   89.4081  69.4915  78.2016           287\n",
              "25              26   94.8276    93.75  94.2857           165\n",
              "26              27   93.3333  74.8092  83.0508            98\n",
              "27              29   94.2249  98.1013   96.124           310\n",
              "28              30   71.1538   72.549  71.8447            74\n",
              "29              31   45.8333  85.4369   59.661            88\n",
              "30              32   84.6154   55.618  67.1186            99\n",
              "31              33   92.1053  51.4706  66.0377            35\n",
              "32              34   89.8778   91.637  90.7489           515\n",
              "33              35        50  55.5556  52.6316             5\n",
              "34              36       100      100      100            16\n",
              "35              37    90.991  99.0196  94.8357           101\n",
              "36              38   51.1628  56.4103  53.6585            22\n",
              "37              39   80.8824  78.5714  79.7101           110\n",
              "38              40       100      100      100           280\n",
              "39              41   76.1905       80  78.0488            16\n",
              "40              42       100  82.3529  90.3226            14\n",
              "41              43         0        0        -             0\n",
              "42              45         -        0        -             0\n",
              "43              46         -        0        -             0\n",
              "44  accuracy=93.08                                          "
            ]
          },
          "metadata": {
            "tags": []
          }
        },
        {
          "output_type": "stream",
          "text": [
            "CPU times: user 24 s, sys: 4.19 s, total: 28.2 s\n",
            "Wall time: 17.3 s\n"
          ],
          "name": "stdout"
        }
      ]
    },
    {
      "cell_type": "markdown",
      "metadata": {
        "id": "BYX749sbkzA-"
      },
      "source": [
        "### #TODO 3\n",
        "Compare the result between all neural tagger models in 4.1 and 4.2.x and provide a convincing reason and example for the result of these models (which model perform better, why?)\n",
        "\n",
        "(If you use your own weight please state so in the answer)"
      ]
    },
    {
      "cell_type": "markdown",
      "metadata": {
        "id": "QJKtOsoRhHQv"
      },
      "source": [
        "<b>Write your answer here :</b>\n",
        "\n",
        "There is 3 methods in this experiment to perform in PoS tagging task which are \"nn\", \"nn_crf\", and \"nn_crf with pretrained weight\".\n",
        "\n",
        "Accuracy:\n",
        "\n",
        "    - acc of nn: 93.02%                                    [with epoch=20]\n",
        "    - acc of nn_crf: \n",
        "        - 93.06%                                           [with epoch=20]\n",
        "        - 92.30%                                           [with epoch=30 the acc is decrease -> overfit]\n",
        "    - acc of nn_crf with pretrained weight: 93.08%         [with epoch=10 training more than this will make acc drop in my experiment.]\n",
        "\n",
        "    summary: nn_crf with pretrained > nn_crf > nn . (however they are diffrent a bit < 0.4%)\n",
        "\n",
        "Training time:\n",
        "\n",
        "    - nn: 20 epoch (each epoch=7 sec)                       -> cost 20x7 = \"140 sec\"\n",
        "    - nn_crf: 20 epoch (each epoch=100 sec)                 -> cost 20*100 = \"2000 sec\"\n",
        "    - nn_crf with pretrained: 10 epoch (each epoch=100 sec) -> cost 10*100 = \"1000 sec\"\n",
        "\n",
        "    summary: nn <<< nn_crf with pretrained << nn_crf (in this experiment) -> all model have nearly acc.\n",
        "\n",
        "Model Speed:\n",
        "    \n",
        "    we will compare this part by using wall time while predicting of the model to compare speed of the model\n",
        "\n",
        "    - nn:                                                    3.71 sec\n",
        "    - nn_crf:                                                16.9 sec\n",
        "    - nn_crf with pretrained:                                17.3 sec\n",
        "\n",
        "     summary: nn <<< nn_crf = nn_crf with pretrained(equal model size)\n",
        "    \n",
        "\n",
        "\n",
        "Summary: \n",
        "for my point of view, I will choose nn model because nn give the reasonable accuracy with faster training and faster model."
      ]
    },
    {
      "cell_type": "markdown",
      "metadata": {
        "id": "_Z8raWOawjxp"
      },
      "source": [
        "### #TODO 4\n",
        "\n",
        "Upon inference, the model also returns its transition matrix, which is learned during training. Your task is to observe and report whether the returned matrix is sensible. You can provide some examples to support your argument.\n",
        "\n",
        "#### Hint : The transition matrix must have the shape  of (num_class, num_class).\n",
        "\n",
        "<b>Write your answer here :</b>\n",
        "\n",
        "About transition matrix:\n",
        "\n",
        "- Transition matrix will have size of (n_classes,n_classes). In this case it will be (48,48).\n",
        "\n",
        "- The transition matrix will have row(i) and column(j). While reading the transition matrix, you should look at row(i) first and then follow with column(j). So it means that the transition score you get is the transition score from tag i to tag j.\n",
        "    \n",
        "- The transition score is the score that model learn from the data:\n",
        "  - if tag i appear, tag j have a high chance to appear after it. So the model will give high the transition score from tag i to tag j.\n",
        "  - Opposite to the high score, if the model give the low transition score to that pair of tag, it means that tag j usually not appear after tag i.\n",
        "\n",
        "Analysis:  \n",
        "- As you can see from the heatmap of transition matrix below,\n",
        "    - the bright spot means that the transition score is high.\n",
        "    - the dark spot means that the transition sccore is low.\n",
        "\n",
        "- So, I pick about 3 bright spot(high transition score) to analysis and all of them seem reasonable.\n",
        "    1.   from NTTL(Title noun) to NPRP(Proper noun) which seem resonable because title of noun (such as ดร.) must follow with proper noun.\n",
        "    2.   from FIXV(Adverbial prefix) to VSTA(Stative verb) which seem ืreasonable because Adverbial prefix(such as อย่าง) usually follow with stative verb(such as ชอบ รัก) but not match with some stative verb (such as เห็น รู้).\n",
        "    3.   from FIXV(Adverbial prefix) to VATT(Attributive verb) which seem ืreasonable because Adverbial prefix(such as อย่าง) usually follow with attributive verb(such as อ้วน ดี สวย).\n",
        "\n",
        "- Then, I pick about 3 dark spot(low transition score) to analysis and all of them seem reasonable.\n",
        "    1.   from FIXV(Adverbial prefix) to NCMN(Cardinal number) which is seems reasonable because adverbial prefix(such as อย่าง) should not follow with cardinal number(such as 1 2).\n",
        "    2.   from CNIT(Unit classifier) to NPRP(Proper noun) which is seems reasonable because unit classifier(such as ตัว เล่ม) should not follow with proper noun.\n",
        "    3.   from XVAE(Post-verb auxiliary) to DDAQ(Definite determiner  following quantitative expression) which is seems reasonable because post-verb auxiliary(such as ไป ขึ้น) should not follow with DDAQ(such as พอดี ถ้วน)\n",
        "\n",
        "summary: I think that the transition matrix seems sensible with all reasons above.\n"
      ]
    },
    {
      "cell_type": "code",
      "metadata": {
        "colab": {
          "base_uri": "https://localhost:8080/"
        },
        "id": "IKXFBcECNfxL",
        "outputId": "02767b79-caa6-4114-87d1-fad4312e2725"
      },
      "source": [
        "transition_matrix = crf.transitions.numpy()\n",
        "print('transition matrix shape:',transition_matrix.shape)"
      ],
      "execution_count": 40,
      "outputs": [
        {
          "output_type": "stream",
          "text": [
            "transition matrix shape: (48, 48)\n"
          ],
          "name": "stdout"
        }
      ]
    },
    {
      "cell_type": "code",
      "metadata": {
        "id": "dRgJBoJIKVUV",
        "colab": {
          "base_uri": "https://localhost:8080/"
        },
        "outputId": "606bf899-4f1e-46a8-f6df-7881edee3150"
      },
      "source": [
        "transition_matrix"
      ],
      "execution_count": 41,
      "outputs": [
        {
          "output_type": "execute_result",
          "data": {
            "text/plain": [
              "array([[-0.10593769, -0.03279777, -0.37488276, ...,  0.15101498,\n",
              "         0.3019332 , -0.20515718],\n",
              "       [-0.14785716, -0.4685588 ,  0.09250808, ...,  0.00943844,\n",
              "        -0.13445269, -0.25476408],\n",
              "       [-0.12834364,  0.11082927, -0.46854505, ..., -0.26941627,\n",
              "        -0.00110858,  0.17365965],\n",
              "       ...,\n",
              "       [-0.12138613, -0.02356436, -0.13002276, ..., -0.12561345,\n",
              "        -0.34274864, -0.165671  ],\n",
              "       [-0.0289832 , -0.30262512, -0.4335802 , ..., -0.11440538,\n",
              "        -0.03528374, -0.19618472],\n",
              "       [-0.11082111, -0.1415203 , -0.27420795, ...,  0.13307239,\n",
              "        -0.24492078, -0.08499394]], dtype=float32)"
            ]
          },
          "metadata": {
            "tags": []
          },
          "execution_count": 41
        }
      ]
    },
    {
      "cell_type": "code",
      "metadata": {
        "id": "q-NnedcYSQ51"
      },
      "source": [
        "tag_list = [0]*(len(label_to_idx)+1)\n",
        "for tag_name,idx in label_to_idx.items():\n",
        "    tag_list[idx] = tag_name"
      ],
      "execution_count": 42,
      "outputs": []
    },
    {
      "cell_type": "code",
      "metadata": {
        "colab": {
          "base_uri": "https://localhost:8080/",
          "height": 648
        },
        "id": "hYzDpRU2USjs",
        "outputId": "6875dd87-738d-4096-edcb-3c3a1478341e"
      },
      "source": [
        "import seaborn as sns\n",
        "import matplotlib.pylab as plt\n",
        "\n",
        "fig, ax = plt.subplots(figsize=(12,10)) \n",
        "ax = sns.heatmap(transition_matrix, xticklabels=tag_list, yticklabels=tag_list)\n",
        "plt.show()"
      ],
      "execution_count": 43,
      "outputs": [
        {
          "output_type": "display_data",
          "data": {
            "image/png": "[encoded data removed]",
            "text/plain": [
              "<Figure size 864x720 with 2 Axes>"
            ]
          },
          "metadata": {
            "tags": [],
            "needs_background": "light"
          }
        }
      ]
    },
    {
      "cell_type": "code",
      "metadata": {
        "id": "OlGccQsaUh3f"
      },
      "source": [
        ""
      ],
      "execution_count": null,
      "outputs": []
    }
  ]
}