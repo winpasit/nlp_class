{
 "cells": [
  {
   "cell_type": "markdown",
   "metadata": {
    "colab_type": "text",
    "id": "eB0lBzkJy_l6"
   },
   "source": [
    "# HW7: Neural Transition-Based Dependency Parsing\n"
   ]
  },
  {
   "cell_type": "markdown",
   "metadata": {
    "colab_type": "text",
    "id": "hwbJPnBmy_l-"
   },
   "source": [
    "In this exercise, you are going to build a deep learning model for Neural Networks Transition-Based Dependency Parsing. A dependency parser analyzes the grammatical structure of a sentence, establishing relationships between “head” words and words which modify those heads. Your implementation will be a transition-based parser, which incrementally builds up a parse one step at a time."
   ]
  },
  {
   "cell_type": "markdown",
   "metadata": {
    "colab_type": "text",
    "id": "iTop7w0Wy_mT"
   },
   "source": [
    "To complete this exercise, you will need to complete the code and build a deep learning model for dependency parsing. We will evaluate the model on the subset of Penn Treebank (annotated with Universal Dependencies). \n",
    "\n",
    "We provide the code for data preparation and the skeleton for PartialParse class. You do not need to understand the code outside of this notebook. \n",
    "\n",
    "This homework and the starter codes are adopt from Stanford University class CS224n."
   ]
  },
  {
   "cell_type": "markdown",
   "metadata": {
    "colab_type": "text",
    "id": "3RJMmaCSy_mV"
   },
   "source": [
    "This homework does not require you to use Google Colab or Google Cloud as the model is quite small (but you can still use it if you want)"
   ]
  },
  {
   "cell_type": "markdown",
   "metadata": {
    "colab_type": "text",
    "id": "lzF49xKny_mX"
   },
   "source": [
    "## 1. Transition-Based Dependency Parsing"
   ]
  },
  {
   "cell_type": "markdown",
   "metadata": {
    "colab_type": "text",
    "id": "PwH68mjMy_mY"
   },
   "source": [
    "Your implementation will be a transition-based parser, which incrementally builds\n",
    "up a parse one step at a time. At every step it maintains a partial parse, which is represented as follows:\n",
    "- A stack of words that are currently being processed.\n",
    "- A buffer of words yet to be processed.\n",
    "- A list of dependencies predicted by the parser.\n",
    "\n",
    "Initially, the stack only contains ROOT, the dependencies lists is empty, and the buffer contains all words\n",
    "of the sentence in order. At each step, the parse applies a transition to the partial parse until its buffer is\n",
    "empty and the stack is size 1. The following transitions can be applied:\n",
    "- SHIFT: removes the first word from the buffer and pushes it onto the stack.\n",
    "- LEFT-ARC: marks the second (second most recently added) item on the stack as a dependent of the\n",
    "first item and removes the second item from the stack.\n",
    "- RIGHT-ARC: marks the first (most recently added) item on the stack as a dependent of the second\n",
    "item and removes the first item from the stack.\n",
    "\n",
    "Your parser will decide among transitions at each state using a neural network classifier."
   ]
  },
  {
   "cell_type": "markdown",
   "metadata": {
    "colab_type": "text",
    "id": "Ab3kn2OVy_mb"
   },
   "source": [
    "### TODO 1 (Written):\n",
    "Go through the sequence of transitions needed for parsing the sentence “I parsed\n",
    "this sentence correctly”. The dependency tree for the sentence is shown below. At each step, give the\n",
    "configuration of the stack and buffer, as well as what transition was applied this step and what new\n",
    "dependency was added (if any). The first three steps are provided below as an example."
   ]
  },
  {
   "cell_type": "markdown",
   "metadata": {
    "colab_type": "text",
    "id": "aTkSbSf6y_ma"
   },
   "source": [
    "<img src=\"https://github.com/ekapolc/NLP_2020/blob/master/HW7/images/img1.jpg?raw=true\">"
   ]
  },
  {
   "cell_type": "markdown",
   "metadata": {
    "colab_type": "text",
    "id": "OPmRQbXky_mc"
   },
   "source": [
    "Complete the following table (double click the table and fill in the rest):\n",
    "\n",
    "| stack    |  buffer |  new dependency | transition |\n",
    "| :------: |:------: | :-------------: | :--------: |\n",
    "| \\[ROOT\\]                        | \\[I, parsed, this, sentence, correctly\\] |                  | Initial Configuration |\n",
    "| \\[ROOT, I\\]                     | \\[parsed, this, sentence, correctly\\]    |                  | SHIFT |\n",
    "| \\[ROOT, I, parsed\\]             | \\[this, sentence, correctly\\]            |                  | SHIFT |\n",
    "| \\[ROOT, parsed\\]                | \\[this, sentence, correctly\\]            | parsed→I         | LEFT-ARC |\n",
    "| \\[ROOT, parsed, this\\]          | \\[sentence, correctly\\]                  |                  | SHIFT |\n",
    "| \\[ROOT, parsed, this, sentence\\]| \\[correctly\\]                            |                  | SHIFT |\n",
    "| \\[ROOT, parsed, sentence\\]      | \\[correctly\\]                            | sentence→this    | LEFT-ARC |\n",
    "| \\[ROOT, parsed\\]                | \\[correctly\\]                            | parsed→sentence  | RIGHT-ARC |\n",
    "| \\[ROOT, parsed, correctly\\]     | \\[\\]                                     |                  | SHIFT |\n",
    "| \\[ROOT, parsed\\]                | \\[\\]                                     | parsed→correctly | RIGHT-ARC |\n",
    "| \\[ROOT\\]                        | \\[\\]                                     | ROOT→parsed      | RIGHT-ARC |"
   ]
  },
  {
   "cell_type": "markdown",
   "metadata": {
    "colab_type": "text",
    "id": "-h6PmOd6y_me"
   },
   "source": [
    "### TODO 2 (Coding):\n",
    "Implement the __\\_\\_init\\_\\___ and __parse_step__ functions in the PartialParse class. Your code must past both of the following tests."
   ]
  },
  {
   "cell_type": "code",
   "execution_count": 2,
   "metadata": {
    "colab": {},
    "colab_type": "code",
    "id": "WXhOjsN_y_mf"
   },
   "outputs": [],
   "source": [
    "class PartialParse(object):\n",
    "    def __init__(self, sentence):\n",
    "        \"\"\"Initializes this partial parse.\n",
    "\n",
    "        Your code should initialize the following fields:\n",
    "            self.stack: The current stack represented as a list with the top of the stack as the\n",
    "                        last element of the list.\n",
    "            self.buffer: The current buffer represented as a list with the first item on the\n",
    "                         buffer as the first item of the list\n",
    "            self.dependencies: The list of dependencies produced so far. Represented as a list of\n",
    "                    tuples where each tuple is of the form (head, dependent).\n",
    "                    Order for this list doesn't matter.\n",
    "\n",
    "        The root token should be represented with the string \"ROOT\"\n",
    "\n",
    "        Args:\n",
    "            sentence: The sentence to be parsed as a list of words.\n",
    "                      Your code should not modify the sentence.\n",
    "        \"\"\"\n",
    "        # The sentence being parsed is kept for bookkeeping purposes. Do not use it in your code.\n",
    "        self.sentence = sentence\n",
    "\n",
    "        ### YOUR CODE HERE\n",
    "        \n",
    "        self.stack = [\"ROOT\"]\n",
    "        self.buffer = sentence\n",
    "        self.dependencies = list()\n",
    "        \n",
    "        ### END YOUR CODE\n",
    "\n",
    "    def parse_step(self, transition):\n",
    "        \"\"\"Performs a single parse step by applying the given transition to this partial parse\n",
    "\n",
    "        Args:\n",
    "            transition: A string that equals \"S\", \"LA\", or \"RA\" representing the shift, left-arc,\n",
    "                        and right-arc transitions. You can assume the provided transition is a legal\n",
    "                        transition.\n",
    "        \"\"\"\n",
    "        ### YOUR CODE HERE\n",
    "        \n",
    "        if transition == 'S': #shift\n",
    "            self.stack += [self.buffer[0]]\n",
    "            self.buffer = self.buffer[1:]\n",
    "        if transition == 'LA': #arc-left\n",
    "            self.dependencies += [(self.stack[-1],self.stack[-2])]\n",
    "            self.stack = self.stack[:-2] + self.stack[-1:]\n",
    "        if transition == 'RA': #arch-right\n",
    "            self.dependencies += [(self.stack[-2],self.stack[-1])]\n",
    "            self.stack = self.stack[:-1]\n",
    "                \n",
    "        ### END YOUR CODE\n",
    "\n",
    "    def parse(self, transitions):\n",
    "        \"\"\"Applies the provided transitions to this PartialParse\n",
    "\n",
    "        Args:\n",
    "            transitions: The list of transitions in the order they should be applied\n",
    "        Returns:\n",
    "            dependencies: The list of dependencies produced when parsing the sentence. Represented\n",
    "                          as a list of tuples where each tuple is of the form (head, dependent)\n",
    "        \"\"\"\n",
    "        for transition in transitions:\n",
    "            self.parse_step(transition)\n",
    "        return self.dependencies"
   ]
  },
  {
   "cell_type": "code",
   "execution_count": 3,
   "metadata": {
    "colab": {},
    "colab_type": "code",
    "id": "_kF_8ESPy_mk"
   },
   "outputs": [],
   "source": [
    "# Do not modify this code\n",
    "def test_step(name, transition, stack, buf, deps,\n",
    "              ex_stack, ex_buf, ex_deps):\n",
    "    \"\"\"Tests that a single parse step returns the expected output\"\"\"\n",
    "    pp = PartialParse([])\n",
    "    pp.stack, pp.buffer, pp.dependencies = stack, buf, deps\n",
    "\n",
    "    pp.parse_step(transition)\n",
    "    stack, buf, deps = (tuple(pp.stack), tuple(pp.buffer), tuple(sorted(pp.dependencies)))\n",
    "    assert stack == ex_stack, \\\n",
    "        \"{:} test resulted in stack {:}, expected {:}\".format(name, stack, ex_stack)\n",
    "    assert buf == ex_buf, \\\n",
    "        \"{:} test resulted in buffer {:}, expected {:}\".format(name, buf, ex_buf)\n",
    "    assert deps == ex_deps, \\\n",
    "        \"{:} test resulted in dependency list {:}, expected {:}\".format(name, deps, ex_deps)\n",
    "    print(\"{:} test passed!\".format(name))\n",
    "\n",
    "\n",
    "def test_parse_step():\n",
    "    \"\"\"Simple tests for the PartialParse.parse_step function\n",
    "    Warning: these are not exhaustive\n",
    "    \"\"\"\n",
    "    test_step(\"SHIFT\", \"S\", [\"ROOT\", \"the\"], [\"cat\", \"sat\"], [],\n",
    "              (\"ROOT\", \"the\", \"cat\"), (\"sat\",), ())\n",
    "    test_step(\"LEFT-ARC\", \"LA\", [\"ROOT\", \"the\", \"cat\"], [\"sat\"], [],\n",
    "              (\"ROOT\", \"cat\",), (\"sat\",), ((\"cat\", \"the\"),))\n",
    "    test_step(\"RIGHT-ARC\", \"RA\", [\"ROOT\", \"run\", \"fast\"], [], [],\n",
    "              (\"ROOT\", \"run\",), (), ((\"run\", \"fast\"),))\n",
    "\n",
    "\n",
    "def test_parse():\n",
    "    \"\"\"Simple tests for the PartialParse.parse function\n",
    "    Warning: these are not exhaustive\n",
    "    \"\"\"\n",
    "    sentence = [\"parse\", \"this\", \"sentence\"]\n",
    "    dependencies = PartialParse(sentence).parse([\"S\", \"S\", \"S\", \"LA\", \"RA\", \"RA\"])\n",
    "    dependencies = tuple(sorted(dependencies))\n",
    "    expected = (('ROOT', 'parse'), ('parse', 'sentence'), ('sentence', 'this'))\n",
    "    assert dependencies == expected,  \\\n",
    "        \"parse test resulted in dependencies {:}, expected {:}\".format(dependencies, expected)\n",
    "    assert tuple(sentence) == (\"parse\", \"this\", \"sentence\"), \\\n",
    "        \"parse test failed: the input sentence should not be modified\"\n",
    "    print(\"parse test passed!\")"
   ]
  },
  {
   "cell_type": "code",
   "execution_count": 4,
   "metadata": {
    "colab": {},
    "colab_type": "code",
    "id": "MwNZjFgey_mn"
   },
   "outputs": [
    {
     "name": "stdout",
     "output_type": "stream",
     "text": [
      "SHIFT test passed!\n",
      "LEFT-ARC test passed!\n",
      "RIGHT-ARC test passed!\n",
      "parse test passed!\n"
     ]
    }
   ],
   "source": [
    "test_parse_step()\n",
    "test_parse()"
   ]
  },
  {
   "cell_type": "markdown",
   "metadata": {
    "colab_type": "text",
    "id": "0lx3xP_Zy_mr"
   },
   "source": [
    "### TODO 3 (Coding):\n",
    "Our network will predict which transition should be applied next to a partial parse. We could use it to parse a single sentence by applying predicted transitions until the parse is complete. However, neural networks run much more efficiently when making predictions about batches of data at a time (i.e., predicting the next transition for a many different partial parses simultaneously). We can parse sentences in minibatches with the following algorithm."
   ]
  },
  {
   "cell_type": "markdown",
   "metadata": {
    "colab_type": "text",
    "id": "4oTyD-Dcy_ms"
   },
   "source": [
    "<img src=\"https://github.com/ekapolc/NLP_2020/blob/master/HW7/images/img2.jpg?raw=true\">"
   ]
  },
  {
   "cell_type": "markdown",
   "metadata": {
    "colab_type": "text",
    "id": "BhRpDDXay_mt"
   },
   "source": [
    "Implement this algorithm in the minibatch parse function and run the following test."
   ]
  },
  {
   "cell_type": "code",
   "execution_count": 45,
   "metadata": {
    "colab": {},
    "colab_type": "code",
    "id": "gio_qpS5y_mu"
   },
   "outputs": [],
   "source": [
    "def minibatch_parse(sentences, model, batch_size):\n",
    "    \"\"\"Parses a list of sentences in minibatches using a model.\n",
    "\n",
    "    Args:\n",
    "        sentences: A list of sentences to be parsed (each sentence is a list of words)\n",
    "        model: The model that makes parsing decisions. It is assumed to have a function\n",
    "               model.predict(partial_parses) that takes in a list of PartialParses as input and\n",
    "               returns a list of transitions predicted for each parse. That is, after calling\n",
    "                   transitions = model.predict(partial_parses)\n",
    "               transitions[i] will be the next transition to apply to partial_parses[i].\n",
    "        batch_size: The number of PartialParses to include in each minibatch\n",
    "    Returns:\n",
    "        dependencies: A list where each element is the dependencies list for a parsed sentence.\n",
    "                      Ordering should be the same as in sentences (i.e., dependencies[i] should\n",
    "                      contain the parse for sentences[i]).\n",
    "    \"\"\"\n",
    "\n",
    "    ### YOUR CODE HERE\n",
    "\n",
    "    partial_parses = [PartialParse(sentence) for sentence in sentences]\n",
    "    unfinished_parses = partial_parses.copy()\n",
    "    \n",
    "    while len(unfinished_parses) > 0:\n",
    "        minibatch = unfinished_parses[:batch_size]\n",
    "        transitions = model.predict(minibatch)\n",
    "        \n",
    "        for i in range(len(transitions)):\n",
    "            minibatch[i].parse([transitions[i]])\n",
    "            if len(minibatch[i].stack) == 1 and len(minibatch[i].buffer) == 0:\n",
    "                unfinished_parses.remove(minibatch[i])\n",
    "                partial_parses[partial_parses.index(minibatch[i])] = minibatch[i]\n",
    "        \n",
    "    dependencies = [obj.dependencies for obj in partial_parses]\n",
    "    \n",
    "    ### END YOUR CODE\n",
    "\n",
    "    return dependencies"
   ]
  },
  {
   "cell_type": "code",
   "execution_count": 46,
   "metadata": {
    "colab": {},
    "colab_type": "code",
    "id": "lXNoWwaWy_mx"
   },
   "outputs": [
    {
     "name": "stderr",
     "output_type": "stream",
     "text": [
      "<>:8: SyntaxWarning: \"is\" with a literal. Did you mean \"==\"?\n",
      "<>:8: SyntaxWarning: \"is\" with a literal. Did you mean \"==\"?\n",
      "<ipython-input-46-de192b3c6e1a>:8: SyntaxWarning: \"is\" with a literal. Did you mean \"==\"?\n",
      "  return [(\"RA\" if pp.stack[1] is \"right\" else \"LA\") if len(pp.buffer) == 0 else \"S\"\n"
     ]
    }
   ],
   "source": [
    "# Do not modify this code\n",
    "class DummyModel(object):\n",
    "    \"\"\"Dummy model for testing the minibatch_parse function\n",
    "    First shifts everything onto the stack and then does exclusively right arcs if the first word of\n",
    "    the sentence is \"right\", \"left\" if otherwise.\n",
    "    \"\"\"\n",
    "    def predict(self, partial_parses):\n",
    "        return [(\"RA\" if pp.stack[1] is \"right\" else \"LA\") if len(pp.buffer) == 0 else \"S\"\n",
    "                for pp in partial_parses]\n",
    "\n",
    "\n",
    "def test_dependencies(name, deps, ex_deps):\n",
    "    \"\"\"Tests the provided dependencies match the expected dependencies\"\"\"\n",
    "    deps = tuple(sorted(deps))\n",
    "    assert deps == ex_deps, \\\n",
    "        \"{:} test resulted in dependency list {:}, expected {:}\".format(name, deps, ex_deps)\n",
    "\n",
    "\n",
    "def test_minibatch_parse():\n",
    "    \"\"\"Simple tests for the minibatch_parse function\n",
    "    Warning: these are not exhaustive\n",
    "    \"\"\"\n",
    "    sentences = [[\"right\", \"arcs\", \"only\"],\n",
    "                 [\"right\", \"arcs\", \"only\", \"again\"],\n",
    "                 [\"left\", \"arcs\", \"only\"],\n",
    "                 [\"left\", \"arcs\", \"only\", \"again\"]]\n",
    "    deps = minibatch_parse(sentences, DummyModel(), 2)\n",
    "    test_dependencies(\"minibatch_parse\", deps[0],\n",
    "                      (('ROOT', 'right'), ('arcs', 'only'), ('right', 'arcs')))\n",
    "    test_dependencies(\"minibatch_parse\", deps[1],\n",
    "                      (('ROOT', 'right'), ('arcs', 'only'), ('only', 'again'), ('right', 'arcs')))\n",
    "    test_dependencies(\"minibatch_parse\", deps[2],\n",
    "                      (('only', 'ROOT'), ('only', 'arcs'), ('only', 'left')))\n",
    "    test_dependencies(\"minibatch_parse\", deps[3],\n",
    "                      (('again', 'ROOT'), ('again', 'arcs'), ('again', 'left'), ('again', 'only')))\n",
    "    print(\"minibatch_parse test passed!\")"
   ]
  },
  {
   "cell_type": "code",
   "execution_count": 47,
   "metadata": {
    "colab": {},
    "colab_type": "code",
    "id": "V-13VeiKy_m1"
   },
   "outputs": [
    {
     "name": "stdout",
     "output_type": "stream",
     "text": [
      "minibatch_parse test passed!\n"
     ]
    }
   ],
   "source": [
    "test_minibatch_parse()"
   ]
  },
  {
   "cell_type": "markdown",
   "metadata": {
    "colab_type": "text",
    "id": "EL5kIWKXy_m4"
   },
   "source": [
    "## 2. Setup and Preprocessing"
   ]
  },
  {
   "cell_type": "code",
   "execution_count": 8,
   "metadata": {
    "colab": {},
    "colab_type": "code",
    "id": "zemNby1uy_m5"
   },
   "outputs": [],
   "source": [
    "from utils.parser_utils import minibatches, load_and_preprocess_data"
   ]
  },
  {
   "cell_type": "markdown",
   "metadata": {
    "colab_type": "text",
    "id": "RksEEdJvy_m8"
   },
   "source": [
    "Preparing data. We will use a subset of Penn Treebank and pretrained embeddings in this task"
   ]
  },
  {
   "cell_type": "markdown",
   "metadata": {
    "colab_type": "text",
    "id": "5XNgGpMUy_m9"
   },
   "source": [
    "We are now going to train a neural network to predict, given the state of the stack, buffer, and dependencies, which transition should be applied next. First, the model extracts a feature vector representing the current state. We will be using the feature set presented in the original neural dependency parsing paper: A Fast and Accurate Dependency Parser using Neural Networks. \n",
    "\n",
    "The function extracting these features has been implemented for you in parser_utils. This feature vector consists of a list of tokens (e.g., the last word in the stack, first word in the buffer, dependent of the second-to-last word in the stack if there is one, etc.). They can be represented as a list of integers."
   ]
  },
  {
   "cell_type": "code",
   "execution_count": 9,
   "metadata": {
    "colab": {},
    "colab_type": "code",
    "id": "JhqbGTYpy_m-"
   },
   "outputs": [
    {
     "name": "stdout",
     "output_type": "stream",
     "text": [
      "Loading data...\n",
      "took 1.75 seconds\n",
      "Building parser...\n",
      "took 0.03 seconds\n",
      "Loading pretrained embeddings...\n",
      "took 1.77 seconds\n",
      "Vectorizing data...\n",
      "took 0.05 seconds\n",
      "Preprocessing training data...\n",
      "took 1.00 seconds\n"
     ]
    }
   ],
   "source": [
    "parser, embeddings, train_examples, dev_set, test_set = load_and_preprocess_data(True)"
   ]
  },
  {
   "cell_type": "code",
   "execution_count": 10,
   "metadata": {
    "colab": {},
    "colab_type": "code",
    "id": "D-VYL2rKy_nB"
   },
   "outputs": [
    {
     "name": "stdout",
     "output_type": "stream",
     "text": [
      "48390 500 500\n"
     ]
    }
   ],
   "source": [
    "print(len(train_examples), len(dev_set), len(test_set))"
   ]
  },
  {
   "cell_type": "markdown",
   "metadata": {
    "colab_type": "text",
    "id": "ZBD3A4yVy_nI"
   },
   "source": [
    "Get the full batch of our subset data"
   ]
  },
  {
   "cell_type": "code",
   "execution_count": 11,
   "metadata": {
    "colab": {},
    "colab_type": "code",
    "id": "8vNwux9by_nJ"
   },
   "outputs": [],
   "source": [
    "minibatch_gen = minibatches(train_examples, len(train_examples))\n",
    "x_train, y_train = minibatch_gen.__next__()"
   ]
  },
  {
   "cell_type": "code",
   "execution_count": 12,
   "metadata": {
    "colab": {},
    "colab_type": "code",
    "id": "i__8jliGy_nM"
   },
   "outputs": [
    {
     "name": "stdout",
     "output_type": "stream",
     "text": [
      "(48390, 36)\n",
      "(48390, 3)\n"
     ]
    }
   ],
   "source": [
    "print(x_train.shape)\n",
    "print(y_train.shape)"
   ]
  },
  {
   "cell_type": "code",
   "execution_count": 13,
   "metadata": {
    "colab": {},
    "colab_type": "code",
    "id": "2LerZSYby_nP"
   },
   "outputs": [
    {
     "name": "stdout",
     "output_type": "stream",
     "text": [
      "[5156 2056   90 4463 4464   91 5155 5155 5155 5155 5155 5155  100 5155\n",
      " 5155 5155 5155 5155   84   48   41   43   39   40   83   83   83   83\n",
      "   83   83   54   83   83   83   83   83]\n"
     ]
    }
   ],
   "source": [
    "# Sample features\n",
    "print(x_train[0])"
   ]
  },
  {
   "cell_type": "markdown",
   "metadata": {
    "colab_type": "text",
    "id": "17eqeESxy_nR"
   },
   "source": [
    "## 3. Model"
   ]
  },
  {
   "cell_type": "code",
   "execution_count": 14,
   "metadata": {
    "colab": {},
    "colab_type": "code",
    "id": "T5mqcz1qy_nT"
   },
   "outputs": [],
   "source": [
    "from tensorflow.keras.models import Sequential, Model\n",
    "from tensorflow.keras.layers import Embedding, Reshape, Activation, Input, Dense, Reshape, Dropout, Flatten\n",
    "from tensorflow.keras.optimizers import Adam\n",
    "import tensorflow as tf"
   ]
  },
  {
   "cell_type": "markdown",
   "metadata": {
    "colab_type": "text",
    "id": "5sW29Rhvy_nX"
   },
   "source": [
    "### TODO 4 (Coding):\n",
    "Build and train a tensroflow keras model to predict an action for each state of of the input. This is a simple classification task. \n",
    "- The input and output of the model must match the dimention of x_train and y_train.\n",
    "- The model must use the provided pretrained embeddings\n",
    "- The model could comprise of only a feedforward layer and a dropout\n",
    "- Training loss should be around 0.1 or below, and training categorical_accuracy above 0.94"
   ]
  },
  {
   "cell_type": "code",
   "execution_count": 81,
   "metadata": {
    "colab": {},
    "colab_type": "code",
    "id": "jAWlQI6iy_nY"
   },
   "outputs": [
    {
     "name": "stdout",
     "output_type": "stream",
     "text": [
      "Model: \"sequential_4\"\n",
      "_________________________________________________________________\n",
      "Layer (type)                 Output Shape              Param #   \n",
      "=================================================================\n",
      "embedding_4 (Embedding)      (None, 36, 50)            257850    \n",
      "_________________________________________________________________\n",
      "flatten_4 (Flatten)          (None, 1800)              0         \n",
      "_________________________________________________________________\n",
      "dense_10 (Dense)             (None, 100)               180100    \n",
      "_________________________________________________________________\n",
      "dense_11 (Dense)             (None, 100)               10100     \n",
      "_________________________________________________________________\n",
      "dense_12 (Dense)             (None, 3)                 303       \n",
      "=================================================================\n",
      "Total params: 448,353\n",
      "Trainable params: 448,353\n",
      "Non-trainable params: 0\n",
      "_________________________________________________________________\n"
     ]
    }
   ],
   "source": [
    "model = Sequential()\n",
    "# Write your code here\n",
    "model.add(Input(shape=(36,)))\n",
    "model.add(Embedding(embeddings.shape[0], 50, embeddings_initializer=tf.keras.initializers.Constant(embeddings)))\n",
    "model.add(Flatten())\n",
    "model.add(Dense(100, activation='relu'))\n",
    "model.add(Dense(100, activation='relu'))\n",
    "model.add(Dense(3, activation='softmax'))\n",
    "\n",
    "model.compile(loss='categorical_crossentropy', optimizer=Adam(lr=0.01), metrics=['accuracy'])\n",
    "model.summary()"
   ]
  },
  {
   "cell_type": "code",
   "execution_count": 82,
   "metadata": {
    "colab": {},
    "colab_type": "code",
    "id": "iMjs0W69y_nb"
   },
   "outputs": [
    {
     "name": "stdout",
     "output_type": "stream",
     "text": [
      "Epoch 1/5\n",
      "757/757 [==============================] - 2s 2ms/step - loss: 0.3235 - accuracy: 0.8853\n",
      "Epoch 2/5\n",
      "757/757 [==============================] - 2s 2ms/step - loss: 0.1376 - accuracy: 0.9488\n",
      "Epoch 3/5\n",
      "757/757 [==============================] - 2s 2ms/step - loss: 0.0857 - accuracy: 0.9710\n",
      "Epoch 4/5\n",
      "757/757 [==============================] - 2s 2ms/step - loss: 0.0578 - accuracy: 0.9806\n",
      "Epoch 5/5\n",
      "757/757 [==============================] - 2s 2ms/step - loss: 0.0502 - accuracy: 0.9839\n"
     ]
    },
    {
     "data": {
      "text/plain": [
       "<tensorflow.python.keras.callbacks.History at 0x161c35250>"
      ]
     },
     "execution_count": 82,
     "metadata": {},
     "output_type": "execute_result"
    }
   ],
   "source": [
    "# Write your code here\n",
    "model.fit(x_train, y_train, epochs=5, batch_size=64)"
   ]
  },
  {
   "cell_type": "markdown",
   "metadata": {
    "colab_type": "text",
    "id": "332SL84Yy_nf"
   },
   "source": [
    "## 4. Evaluation"
   ]
  },
  {
   "cell_type": "markdown",
   "metadata": {
    "colab_type": "text",
    "id": "HohiOHZUy_nf"
   },
   "source": [
    "For Dependency Parsing, we usually report attachment score of the model for evaluation. There are two possible metrics UAS and LAS."
   ]
  },
  {
   "cell_type": "markdown",
   "metadata": {
    "colab_type": "text",
    "id": "R3hmM0Kly_ng"
   },
   "source": [
    "### TODO 5 (Written and Coding):\n",
    "Explain how attachment score is calculated and the difference between unlabeled attachment score (UAS) and labeled attachment score (LAS). Which one should we use here?"
   ]
  },
  {
   "cell_type": "markdown",
   "metadata": {
    "colab_type": "text",
    "id": "rENVVVUhy_nh"
   },
   "source": [
    "__Answer here__: \n",
    "Labeled parsing accuracy(LAS) will check both label and dependency. On the other hand, Unlabeled parsing accuracy will focus on only dependency."
   ]
  },
  {
   "cell_type": "markdown",
   "metadata": {
    "colab_type": "text",
    "id": "HE2HQT4Vy_ni"
   },
   "source": [
    "Report the score using appropriate metric on dev_set and test_set. The function for calculating scores are provided in parser.parse and the dataset can be passed in as-is."
   ]
  },
  {
   "cell_type": "markdown",
   "metadata": {
    "colab_type": "text",
    "id": "r4JJmrsGy_nj"
   },
   "source": [
    "dev_score: 0.654"
   ]
  },
  {
   "cell_type": "code",
   "execution_count": 83,
   "metadata": {
    "colab": {},
    "colab_type": "code",
    "id": "SOTPTqf7y_nj"
   },
   "outputs": [
    {
     "name": "stdout",
     "output_type": "stream",
     "text": [
      "UAS on dev set: 0.6541697908856119\n"
     ]
    }
   ],
   "source": [
    "UAS_dev, dependencies_dev = parser.parse(dev_set, model, minibatch_parse)\n",
    "print('UAS on dev set:', UAS)"
   ]
  },
  {
   "cell_type": "markdown",
   "metadata": {
    "colab_type": "text",
    "id": "DlCJGdLWy_nm"
   },
   "source": [
    "test_score: 0.709"
   ]
  },
  {
   "cell_type": "code",
   "execution_count": 84,
   "metadata": {
    "colab": {},
    "colab_type": "code",
    "id": "o2bJf_1oy_nn"
   },
   "outputs": [
    {
     "name": "stdout",
     "output_type": "stream",
     "text": [
      "UAS on test set: 0.7091673675357443\n"
     ]
    }
   ],
   "source": [
    "UAS_test, dependencies_test = parser.parse(test_set, model, minibatch_parse)\n",
    "print('UAS on test set:', UAS_test)"
   ]
  },
  {
   "cell_type": "markdown",
   "metadata": {
    "colab_type": "text",
    "id": "SLcAa-fLy_nq"
   },
   "source": [
    "Also, print one sample sentence (in English) in the test set and its predicted dependencies from the model.\n",
    "You can use __parser.id2tok\\[word_id\\]__ to lookup the word in English.\n",
    "\n",
    "__Draw a picture of this sentence with arrows and upload it to my couseville__"
   ]
  },
  {
   "cell_type": "code",
   "execution_count": 86,
   "metadata": {
    "colab": {},
    "colab_type": "code",
    "id": "eY6li-u5y_nq"
   },
   "outputs": [
    {
     "name": "stdout",
     "output_type": "stream",
     "text": [
      "sentence  : <ROOT>  no  ,  it  was  n't  black  monday  .\n",
      "dependency: [(6, 5), (7, 6), (7, 4), (7, 3), (7, 2), (7, 1), (7, 8), (0, 7)]\n"
     ]
    }
   ],
   "source": [
    "print('sentence  :', '  '.join([parser.id2tok[word_id] for word_id in test_set[0]['word']]))\n",
    "print('dependency:', dependencies_test[0])"
   ]
  }
 ],
 "metadata": {
  "colab": {
   "collapsed_sections": [],
   "name": "HW7-parsing.ipynb",
   "provenance": []
  },
  "kernelspec": {
   "display_name": "Python 3",
   "language": "python",
   "name": "python3"
  },
  "language_info": {
   "codemirror_mode": {
    "name": "ipython",
    "version": 3
   },
   "file_extension": ".py",
   "mimetype": "text/x-python",
   "name": "python",
   "nbconvert_exporter": "python",
   "pygments_lexer": "ipython3",
   "version": "3.8.5"
  }
 },
 "nbformat": 4,
 "nbformat_minor": 4
}
