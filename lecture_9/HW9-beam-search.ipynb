{
 "cells": [
  {
   "cell_type": "markdown",
   "metadata": {
    "id": "usNyJriCzmxa"
   },
   "source": [
    "# HW9: Beam Search Decoding - News Headline Generation"
   ]
  },
  {
   "cell_type": "markdown",
   "metadata": {
    "id": "LPEfOy_Dzmxa"
   },
   "source": [
    "In this exercise, you are going to learn and implement decoding techniques for sequence generation. Usually, the sequence is generated word-by-word from a model. In each step, the model predicted the most likely word based on the predicted words in previous steps (this is called auto-regressive decoding).\n",
    "\n",
    "As such, it is very important how you decide on what to predicted at each step, as it will be conditioned on to predicted all of the following steps. There are two main decoding techniques: **Greedy Decoding** and **Beam Search Decoding**. Greedy Decoding immediately chooses the word with best score at each step, while Beam Search Decoding focuses on the sequence that give the best score overall."
   ]
  },
  {
   "cell_type": "markdown",
   "metadata": {
    "id": "DCcYxXYKzmxb"
   },
   "source": [
    "To complete this exercise, you will need to complete the methods for decoding for a text generation model trained on [New York Times Comments and Headlines dataset](https://www.kaggle.com/aashita/nyt-comments). The model is trained to predict a headline for the news given seed text. You do not need to train any model model in this exercise as we provide both the pretrained model and dictionary."
   ]
  },
  {
   "cell_type": "markdown",
   "metadata": {
    "id": "5mg6n9Ekzmxb"
   },
   "source": [
    "This homework does not require you to use Google colab as the model is quite small (but you can still use it if you want)"
   ]
  },
  {
   "cell_type": "markdown",
   "metadata": {
    "id": "rAuAx84szmxb"
   },
   "source": [
    "## 0. Download the required files"
   ]
  },
  {
   "cell_type": "code",
   "execution_count": null,
   "metadata": {
    "id": "SP3Sdpya0_Dt"
   },
   "outputs": [],
   "source": [
    "! wget https://github.com/ekapolc/NLP_2021/raw/main/HW9/model.h5\n",
    "! wget https://github.com/ekapolc/NLP_2021/raw/main/HW9/word_list.txt"
   ]
  },
  {
   "cell_type": "markdown",
   "metadata": {
    "id": "5ypTozGDzmxb"
   },
   "source": [
    "## 1. Preparing model and dictionary"
   ]
  },
  {
   "cell_type": "code",
   "execution_count": 1,
   "metadata": {
    "id": "QNNN6PNszmxc"
   },
   "outputs": [],
   "source": [
    "from keras.preprocessing.sequence import pad_sequences\n",
    "from keras.layers import Embedding, LSTM, Dense, Dropout, Reshape, Dropout, Flatten\n",
    "from keras.preprocessing.text import Tokenizer\n",
    "from keras.callbacks import EarlyStopping\n",
    "from keras.models import Sequential\n",
    "from keras.optimizers import Adam\n",
    "import keras.utils as ku \n",
    "\n",
    "# set seeds for reproducability\n",
    "from tensorflow.compat.v1 import set_random_seed\n",
    "from numpy.random import seed\n",
    "set_random_seed(2)\n",
    "seed(1)\n",
    "\n",
    "import pandas as pd\n",
    "import numpy as np\n",
    "import string, os "
   ]
  },
  {
   "cell_type": "markdown",
   "metadata": {
    "id": "gPbmdLXzzmxc"
   },
   "source": [
    "#### Load dictionary\n",
    "- Index 0 is empty as it is researved for unknown words\n",
    "- Index 1 is \"eos\", end-of-sentence symbol used for indicating the end of generation"
   ]
  },
  {
   "cell_type": "code",
   "execution_count": 2,
   "metadata": {
    "id": "xWWyR5XVzmxc"
   },
   "outputs": [],
   "source": [
    "index_to_word = {}\n",
    "word_to_index = {}\n",
    "\n",
    "with open(\"word_list.txt\", \"r\") as word_list_file:\n",
    "  i = 0\n",
    "  for line in word_list_file:\n",
    "    line = line.strip()\n",
    "    index_to_word[i] = line\n",
    "    word_to_index[line] = i\n",
    "    i += 1\n",
    "\n",
    "total_word_count = len(index_to_word)"
   ]
  },
  {
   "cell_type": "code",
   "execution_count": 3,
   "metadata": {
    "id": "qQ8WOIg7zmxc"
   },
   "outputs": [
    {
     "name": "stdout",
     "output_type": "stream",
     "text": [
      "dict size: 2513\n",
      "\n",
      "eos\n",
      "the\n",
      "a\n",
      "to\n",
      "of\n",
      "in\n",
      "for\n",
      "and\n",
      "on\n"
     ]
    }
   ],
   "source": [
    "print(\"dict size:\", len(index_to_word))\n",
    "# Sample words\n",
    "for i in range(10):\n",
    "  print(index_to_word[i])"
   ]
  },
  {
   "cell_type": "markdown",
   "metadata": {
    "id": "7BLXA-ptzmxc"
   },
   "source": [
    "#### Load pretrained model\n",
    "- The provided model is built with only a layer of feedforward neural networks. \n",
    "- The model takes a sequence of indices of **5 previously generated words to precited the next one**.\n",
    "- The sequence is padded with zero."
   ]
  },
  {
   "cell_type": "code",
   "execution_count": 4,
   "metadata": {
    "id": "ScaKgq5xzmxc"
   },
   "outputs": [],
   "source": [
    "input_len = 5"
   ]
  },
  {
   "cell_type": "code",
   "execution_count": 5,
   "metadata": {
    "id": "ucpqphEczmxd"
   },
   "outputs": [
    {
     "name": "stdout",
     "output_type": "stream",
     "text": [
      "Model: \"sequential\"\n",
      "_________________________________________________________________\n",
      "Layer (type)                 Output Shape              Param #   \n",
      "=================================================================\n",
      "embedding (Embedding)        (None, 5, 50)             125650    \n",
      "_________________________________________________________________\n",
      "flatten (Flatten)            (None, 250)               0         \n",
      "_________________________________________________________________\n",
      "dense (Dense)                (None, 100)               25100     \n",
      "_________________________________________________________________\n",
      "dropout (Dropout)            (None, 100)               0         \n",
      "_________________________________________________________________\n",
      "dense_1 (Dense)              (None, 2513)              253813    \n",
      "=================================================================\n",
      "Total params: 404,563\n",
      "Trainable params: 404,563\n",
      "Non-trainable params: 0\n",
      "_________________________________________________________________\n"
     ]
    }
   ],
   "source": [
    "model = Sequential()\n",
    "model.add(Embedding(total_word_count , 50, input_length=5))\n",
    "model.add(Flatten())\n",
    "model.add(Dense(100, activation='relu'))\n",
    "model.add(Dropout(0.2))\n",
    "model.add(Dense(total_word_count, activation='softmax'))\n",
    "model.summary()\n",
    "adam = Adam(lr=0.001)\n",
    "model.compile(optimizer=adam,  loss='categorical_crossentropy', metrics=['categorical_accuracy'])"
   ]
  },
  {
   "cell_type": "code",
   "execution_count": 6,
   "metadata": {
    "id": "lgCLYfkhzmxd"
   },
   "outputs": [],
   "source": [
    "from keras.models import load_model\n",
    "model = load_model('model.h5')"
   ]
  },
  {
   "cell_type": "markdown",
   "metadata": {
    "id": "-2QDYh08zmxd"
   },
   "source": [
    "## 2. Decoding"
   ]
  },
  {
   "cell_type": "markdown",
   "metadata": {
    "id": "lkH6VuGUzmxd"
   },
   "source": [
    "First, we write a function for converting a string to a sequence of indices"
   ]
  },
  {
   "cell_type": "code",
   "execution_count": 7,
   "metadata": {
    "id": "ShoM-0kFzmxd"
   },
   "outputs": [],
   "source": [
    "def texts_to_sequences(text, word_to_index):\n",
    "  text = text.strip().split(\" \")\n",
    "  token_list = [word_to_index[x] for x in text]\n",
    "  return token_list"
   ]
  },
  {
   "cell_type": "markdown",
   "metadata": {
    "id": "6Qnw_rKlzmxd"
   },
   "source": [
    "### Greedy Decoding"
   ]
  },
  {
   "cell_type": "markdown",
   "metadata": {
    "id": "AuCpuk9ezmxd"
   },
   "source": [
    "Normally, in sequence generation task, the model will continue generating tokens until an end-of-sequence symbol appear or the maximum length is reached. For this task:\n",
    "- The end-of-sequence symbol is \"Eos\" and its index is 1\n",
    "- Use the maximum generation length of 15"
   ]
  },
  {
   "cell_type": "code",
   "execution_count": 8,
   "metadata": {
    "id": "iNMygBTSzmxd"
   },
   "outputs": [],
   "source": [
    "eos_token = \"Eos\"\n",
    "eos_index = 1\n",
    "max_gen_length = 15"
   ]
  },
  {
   "cell_type": "markdown",
   "metadata": {
    "id": "0S4JQ5Jazmxe"
   },
   "source": [
    "### TODO 1:\n",
    "Now, complete the greedy decoding function below. "
   ]
  },
  {
   "cell_type": "code",
   "execution_count": 296,
   "metadata": {
    "id": "g20P53bUzmxe"
   },
   "outputs": [],
   "source": [
    "def greedy_decode(seed_text, max_gen_length, model, word_to_index, index_to_word, input_len):\n",
    "    \"\"\"Greedy decodes with seed text.\n",
    "\n",
    "    Args:\n",
    "        seed_text: The seed string to be used as initial input to the model.\n",
    "        max_gen_length: Maximum length for generation.\n",
    "                        The decoding process must terminate when this length is reached\n",
    "        model: Pretrained keras model for prediction.\n",
    "        word_to_index: The dictionary for converting word to index.\n",
    "        input_len: A number indicating how many previously generated words will be used as \n",
    "                   inputs for the model.\n",
    "\n",
    "    Your code should do the followings:\n",
    "          1. Convert current_text to sequences of indices by calling texts_to_sequences()\n",
    "          2. Pad the sequence with 0s. You might find pad_sequences() function useful\n",
    "          3. Predict the next token using the model (by calling model.predict() or model.predict_classes())\n",
    "             and choose the token with the highest score as output\n",
    "          4. Convert the predicted index to word and concat it to current_text\n",
    "          5. Return text prediction and a list of probabilities of each step\n",
    "\n",
    "    You do not need to stop early when end-of-sequence token is generated and can continue decoding\n",
    "    until max_gen_length is reached. We can filter the eos token out later.\n",
    "\n",
    "    The index is converted back to text after every step purely for simplicity. \n",
    "    When working with real problem you should stick with index until the decoding is done.\n",
    "    But you can always call a function provided by the library so there is no need to implement this yourself.\n",
    "    \"\"\"\n",
    "    current_text = seed_text\n",
    "    probs = []\n",
    "    for _ in range(max_gen_length):\n",
    "        ### YOUR CODE HERE\n",
    "        model_input = pad_sequences([texts_to_sequences(current_text,word_to_index)[-input_len:]], maxlen=input_len)\n",
    "        temp_probs = model.predict(model_input)\n",
    "        probs.append(temp_probs[0][np.argmax(temp_probs)])\n",
    "        output_word = index_to_word[np.argmax(temp_probs)]\n",
    "        ### END YOUR CODE\n",
    "        current_text += \" \" + output_word\n",
    "    return current_text.title(), probs"
   ]
  },
  {
   "cell_type": "markdown",
   "metadata": {
    "id": "fYeNLocYzmxe"
   },
   "source": [
    "Test decoding with seed \"the\"\n",
    "\n",
    "You output must be 'The Alienist Season 1 Episode 2 Darkness Descends Eos Eos In Fall Of Spies For Us'"
   ]
  },
  {
   "cell_type": "code",
   "execution_count": 297,
   "metadata": {
    "id": "DMtxfV_czmxf"
   },
   "outputs": [
    {
     "name": "stdout",
     "output_type": "stream",
     "text": [
      "The Alienist Season 1 Episode 2 Darkness Descends Eos Eos In Fall Of Spies For Us\n"
     ]
    }
   ],
   "source": [
    "# Test decoding with seed \"the\"\n",
    "title, probs = greedy_decode(\"the\", max_gen_length, model, word_to_index, index_to_word, input_len)\n",
    "print(title)"
   ]
  },
  {
   "cell_type": "markdown",
   "metadata": {
    "id": "h4t7LVSJzmxf"
   },
   "source": [
    "You may notice that there are serveral end-of-sequence token in your output sequence. \n",
    "### TODO 2:\n",
    "Complete the following function to clean your output and decode with provided seed texts"
   ]
  },
  {
   "cell_type": "code",
   "execution_count": 11,
   "metadata": {
    "id": "0gZ3euw8zmxf"
   },
   "outputs": [],
   "source": [
    "def clean_output(text, eos_token):\n",
    "    \"\"\"Drop eos_token and every words that follow\"\"\"\n",
    "    text_ls = text.split()\n",
    "    if eos_token in text_ls:\n",
    "        text_ls = text_ls[:text_ls.index(eos_token)]\n",
    "        text = ' '.join(text_ls)\n",
    "    return text"
   ]
  },
  {
   "cell_type": "code",
   "execution_count": 231,
   "metadata": {
    "id": "iK_2a68fzmxf"
   },
   "outputs": [
    {
     "name": "stdout",
     "output_type": "stream",
     "text": [
      "To Hell With 1979\n",
      "America Writer And A Laugher\n",
      "People To Work Make Them Healthier\n",
      "Next On The Christie Beat In New Jersey\n",
      "Picture Trump Obstruct Justice\n",
      "On The Whole30 Diet Vowing To Eat Smarter Carbs For More Than 30 Days\n",
      "Usa Gymnastics Still Values Medals More Than Girls\n"
     ]
    }
   ],
   "source": [
    "sample_seeds = [\"to\", \"america\", \"people\", \"next\", \"picture\", \"on\", \"usa\"]\n",
    "for seed in sample_seeds:\n",
    "    title, probs = greedy_decode(seed, max_gen_length, model, word_to_index, index_to_word, input_len)\n",
    "    print(clean_output(title,eos_token))"
   ]
  },
  {
   "cell_type": "markdown",
   "metadata": {
    "id": "dF-DA_f6zmxf"
   },
   "source": [
    "Your output should be\n",
    "- To Hell With 1979 \n",
    "- America Writer And A Laugher \n",
    "- People To Work Make Them Healthier \n",
    "- Next On The Christie Beat In New Jersey \n",
    "- Picture Trump Obstruct Justice \n",
    "- On The Whole30 Diet Vowing To Eat Smarter Carbs For More Than 30 Days \n",
    "- Usa Gymnastics Still Values Medals More Than Girls "
   ]
  },
  {
   "cell_type": "markdown",
   "metadata": {
    "id": "ZYjzG39Vzmxf"
   },
   "source": [
    "### Beam Search Decoding"
   ]
  },
  {
   "cell_type": "markdown",
   "metadata": {
    "id": "Y3yS-Iu3zmxf"
   },
   "source": [
    "Another well-known decoding method is beam search decoding that focuses more on the overall sequence score.\n",
    "\n",
    "Instead of greedily choosing the token with the highest score for each step, beam search decoding expands all possible next tokens and keeps the __k__ most likely sequence at each step, where __k__ is a user-specified beam size. A sequence score is also calculated according user-specified cal_score() function.\n",
    "The beam with the highest score after the decoding process is done will be the output."
   ]
  },
  {
   "cell_type": "markdown",
   "metadata": {
    "id": "MfpY9toGzmxf"
   },
   "source": [
    "There are a fews things that you need to know before implementing a beam search decoder:\n",
    "- When eos token is produced, you can stop expanding that beam\n",
    "- However, the ended beams must be sorted together with active beams\n",
    "- The decoding end when every kept beams are either ended or reached the maximum length, but for this task, you can continue decoding until the max_gen_len is reached\n",
    "- We usually work with probability in log scale to avoid numerical underflow. You should use np.log(score) before any calculation\n",
    "- **As probabilities for some classes will be very small, you must add a very small value to the score before taking log e.g np.log(prob + 0.00000001)**"
   ]
  },
  {
   "cell_type": "markdown",
   "metadata": {
    "id": "aJ77UJYMzmxg"
   },
   "source": [
    "#### Sequence Score\n",
    "The naive way to calculate the sequence score is to __multipy every token scores__ together. However, doing so will make the decoder prefer shorter sequence as you multiply the sequence score with a value between \\[0,1\\] for every tokens in the sequence. Thus, we usually normalize the sequence score with its length by calculating its __geometric mean__ instead.\n",
    "\n",
    "### TODO 3:\n",
    "Complete cal_score() function.\n",
    "**You should do this in log scale**"
   ]
  },
  {
   "cell_type": "code",
   "execution_count": 240,
   "metadata": {
    "id": "PzUMRXGgzmxg"
   },
   "outputs": [],
   "source": [
    "def cal_score(score_list, length, normalized=False):\n",
    "    if normalized:\n",
    "        scores = np.array(score_list).astype('float')\n",
    "        scores += 0.00000001\n",
    "        scores = np.log(scores)\n",
    "        seq_score = np.exp(np.sum(scores)/length)\n",
    "    else:\n",
    "        seq_score = np.prod(np.array(score_list).astype('float'))\n",
    "    return seq_score"
   ]
  },
  {
   "cell_type": "markdown",
   "metadata": {
    "id": "vmHl6_qVzmxg"
   },
   "source": [
    "Complete beam_search_decode() according to above description."
   ]
  },
  {
   "cell_type": "code",
   "execution_count": 271,
   "metadata": {
    "id": "gPQ6Dsjrzmxg"
   },
   "outputs": [],
   "source": [
    "def beam_search_decode(seed_text, max_gen_len, model, word_to_index, index_to_word, max_sequence_len, beam_size, normalized=False):\n",
    "    \"\"\"We will do beam search decoing using seed text in this function.\n",
    "\n",
    "    Output:\n",
    "    beams: A list of top k beams after the decoding ended, each beam is a list of \n",
    "      [seed_text, list of scores, length]\n",
    "\n",
    "    Your code should do the followings:\n",
    "    1.Loop until max_gen_len is reached.\n",
    "    2.During each step, loop thorugh each beam and use it to predict the next word.\n",
    "      If a beam is already ended, continues without expanding.\n",
    "    3.Sort all hypotheses according to cal_score().\n",
    "    4.Keep top k hypotheses to be used at the next step.\n",
    "    \"\"\"\n",
    "    # For each beam we will store (generated text, list of scores, and current length)\n",
    "    # Add initial beam\n",
    "    beams = [[seed_text, [], 0]]\n",
    "\n",
    "    for _ in range(max_gen_len):\n",
    "        temp_beams = []\n",
    "        for beam in beams:\n",
    "            current_text,score_list,length = beam\n",
    "            model_input = pad_sequences([texts_to_sequences(current_text,word_to_index)[-max_sequence_len:]], maxlen=max_sequence_len)\n",
    "            probs = model.predict(model_input)\n",
    "            idxes = np.argpartition(probs[0],-beam_size)[-beam_size:]\n",
    "            \n",
    "            # find top_k\n",
    "            for i in range(beam_size):\n",
    "                temp_idx = idxes[i]\n",
    "                tmp_beam = beam\n",
    "                if index_to_word[temp_idx] != \"eos\":\n",
    "                    temp_beams.append([tmp_beam[0]+\" \"+index_to_word[temp_idx],tmp_beam[1]+[probs[0][temp_idx]],tmp_beam[2]+1])\n",
    "                else:\n",
    "                    if len(tmp_beam[0].split()) == tmp_beam[2]+1:\n",
    "                        temp_beams.append([tmp_beam[0],tmp_beam[1]+[probs[0][temp_idx]],tmp_beam[2]+1])\n",
    "                    else:\n",
    "                        temp_beams.append(tmp_beam)\n",
    "        beams = sorted(temp_beams, key=lambda x: cal_score(x[1],x[2],normalized), reverse=True)[:beam_size]\n",
    "       \n",
    "    return beams"
   ]
  },
  {
   "cell_type": "markdown",
   "metadata": {
    "id": "LPG-OdMmzmxg"
   },
   "source": [
    "### TODO 4 (Coding and Written):\n",
    "Decode with the provided seed texts with beam_size 5 and max_gen_len 10.\n",
    "Compare the results between __greedy, normalized, and unnormalized decoding__.\n",
    "\n",
    "Print a result using greedy decoding and top 2 results using unnormalized and normalized decoing for each seed text.\n",
    "\n",
    "Also, print scores of each candidate according to cal_score(). Use normalization for greedy decoding."
   ]
  },
  {
   "cell_type": "code",
   "execution_count": 311,
   "metadata": {
    "id": "5Gq7ukdvzmxg"
   },
   "outputs": [
    {
     "name": "stdout",
     "output_type": "stream",
     "text": [
      "-Greedy-\n",
      "To Hell With 1979 0.99\n",
      "-Unnormalized-\n",
      "To Hell With 1979 0.98\n",
      "To Live In A Nation Of Holers 0.00\n",
      "-Normalized-\n",
      "To Hell With 1979 0.99\n",
      "To Live In A Nation Of Holers 0.39\n",
      "\n",
      "\n",
      "-Greedy-\n",
      "America Writer And A Laugher 0.52\n",
      "-Unnormalized-\n",
      "America Process 0.05\n",
      "America Bb And Pellet Gun Injuries Pose Serious Risk To Childrens 0.04\n",
      "-Normalized-\n",
      "America Bb And Pellet Gun Injuries Pose Serious Risk To Childrens 0.73\n",
      "America Jacket On Smoking Should Us Even Tougher 0.65\n",
      "\n",
      "\n",
      "-Greedy-\n",
      "People To Work Make Them Healthier 0.84\n",
      "-Unnormalized-\n",
      "People To Work Make Them Healthier 0.35\n",
      "People Liberal Democracies Perish 0.03\n",
      "-Normalized-\n",
      "People To Work Make Them Healthier 0.84\n",
      "People To Work Make High Healthier 0.52\n",
      "\n",
      "\n",
      "-Greedy-\n",
      "Next On The Christie Beat In New Jersey 0.91\n",
      "-Unnormalized-\n",
      "Next On The Christie Beat In New Jersey 0.47\n",
      "Next On The Whole30 Diet Vowing To Eat Smarter Carbs For 0.33\n",
      "-Normalized-\n",
      "Next On The Christie Beat In New Jersey 0.91\n",
      "Next On The Whole30 Diet Vowing To Eat Smarter Carbs For 0.90\n",
      "\n",
      "\n",
      "-Greedy-\n",
      "Picture Trump Obstruct Justice 0.48\n",
      "-Unnormalized-\n",
      "Picture Trump Obstruct Justice 0.05\n",
      "Picture Trump Save American Steel 0.05\n",
      "-Normalized-\n",
      "Picture Are Conflict Victims But All Is Not Lost 0.67\n",
      "Picture To Live In A Nation Of Holers 0.65\n",
      "\n",
      "\n",
      "-Greedy-\n",
      "On The Whole30 Diet Vowing To Eat Smarter Carbs For More Than 30 Days 0.90\n",
      "-Unnormalized-\n",
      "On Family Farms Little Hands Steer Big Machines 0.46\n",
      "On The Whole30 Diet Vowing To Eat Smarter Carbs For More 0.25\n",
      "-Normalized-\n",
      "On Family Farms Little Hands Steer Big Machines 0.91\n",
      "On The Whole30 Diet Vowing To Eat Smarter Carbs For More 0.87\n",
      "\n",
      "\n",
      "-Greedy-\n",
      "Usa Gymnastics Still Values Medals More Than Girls 1.00\n",
      "-Unnormalized-\n",
      "Usa Gymnastics Still Values Medals More Than Girls 0.99\n",
      "Usa Longterm Cesarean Risks 0.00\n",
      "-Normalized-\n",
      "Usa Gymnastics Still Values Medals More Than Girls 1.00\n",
      "Usa Finds A Match Helping Police Solve An Infamous 1994 Rape 0.49\n",
      "\n",
      "\n"
     ]
    }
   ],
   "source": [
    "sample_seeds = [\"to\", \"america\", \"people\", \"next\", \"picture\", \"on\", \"usa\"]\n",
    "k = 2\n",
    "for seed in sample_seeds:\n",
    "    greedy_result = greedy_decode(seed, max_gen_length, model, word_to_index, index_to_word, input_len)\n",
    "    beam_search_norm_results = beam_search_decode(seed, 10, model, word_to_index, index_to_word, input_len, 5, normalized=True)\n",
    "    beam_search_unnorm_results = beam_search_decode(seed, 10, model, word_to_index, index_to_word, input_len, 5, normalized=False)\n",
    "\n",
    "    print('-Greedy-')\n",
    "    greedy_output_text = clean_output(greedy_result[0],eos_token)\n",
    "    len_greedy = len(greedy_output_text.split())\n",
    "    print(f'{greedy_output_text} {cal_score(greedy_result[1][:len_greedy],len_greedy,normalized=True):.2f}')\n",
    "    print('-Unnormalized-')\n",
    "    for i in range(k):\n",
    "        print(f'{beam_search_unnorm_results[i][0].title()} {cal_score(beam_search_unnorm_results[i][1],beam_search_unnorm_results[i][2],normalized=False):.2f}')\n",
    "    print('-Normalized-')\n",
    "    for i in range(k):\n",
    "        print(f'{beam_search_norm_results[i][0].title()} {cal_score(beam_search_norm_results[i][1],beam_search_norm_results[i][2],normalized=True):.2f}')\n",
    "    print('\\n')"
   ]
  },
  {
   "cell_type": "markdown",
   "metadata": {
    "id": "jf1tcCCazmxh"
   },
   "source": [
    "Your outputs should be\n",
    "```\n",
    "-Greedy-\n",
    "To Hell With 1979  0.99\n",
    "-Unnormalized-\n",
    "To Hell With 1979  0.98\n",
    "To Live In A Nation Of Holers  0.00\n",
    "-Normalized-\n",
    "To Hell With 1979  0.99\n",
    "To Live In A Nation Of Holers  0.39\n",
    "\n",
    "-Greedy-\n",
    "America Writer And A Laugher  0.52\n",
    "-Unnormalized-\n",
    "America Process  0.05\n",
    "America Bb And Pellet Gun Injuries Pose Serious Risk To Childrens 0.04\n",
    "-Normalized-\n",
    "America Bb And Pellet Gun Injuries Pose Serious Risk To Childrens 0.73\n",
    "America Jacket On Smoking Should Us Even Tougher  0.65\n",
    "\n",
    "-Greedy-\n",
    "People To Work Make Them Healthier  0.84\n",
    "-Unnormalized-\n",
    "People To Work Make Them Healthier  0.35\n",
    "People Liberal Democracies Perish  0.03\n",
    "-Normalized-\n",
    "People To Work Make Them Healthier  0.84\n",
    "People To Work Make High Healthier  0.52\n",
    "\n",
    "-Greedy-\n",
    "Next On The Christie Beat In New Jersey  0.91\n",
    "-Unnormalized-\n",
    "Next On The Christie Beat In New Jersey  0.47\n",
    "Next On The Whole30 Diet Vowing To Eat Smarter Carbs For 0.33\n",
    "-Normalized-\n",
    "Next On The Christie Beat In New Jersey  0.91\n",
    "Next On The Whole30 Diet Vowing To Eat Smarter Carbs For 0.90\n",
    "\n",
    "-Greedy-\n",
    "Picture Trump Obstruct Justice  0.48\n",
    "-Unnormalized-\n",
    "Picture Trump Obstruct Justice  0.05\n",
    "Picture Trump Save American Steel  0.05\n",
    "-Normalized-\n",
    "Picture Are Conflict Victims But All Is Not Lost  0.67\n",
    "Picture To Live In A Nation Of Holers  0.65\n",
    "\n",
    "-Greedy-\n",
    "On The Whole30 Diet Vowing To Eat Smarter Carbs For More Than 30 Days  0.90\n",
    "-Unnormalized-\n",
    "On Family Farms Little Hands Steer Big Machines  0.46\n",
    "On The Whole30 Diet Vowing To Eat Smarter Carbs For More 0.25\n",
    "-Normalized-\n",
    "On Family Farms Little Hands Steer Big Machines  0.91\n",
    "On The Whole30 Diet Vowing To Eat Smarter Carbs For More 0.87\n",
    "\n",
    "-Greedy-\n",
    "Usa Gymnastics Still Values Medals More Than Girls  1.00\n",
    "-Unnormalized-\n",
    "Usa Gymnastics Still Values Medals More Than Girls  0.99\n",
    "Usa Longterm Cesarean Risks  0.00\n",
    "-Normalized-\n",
    "Usa Gymnastics Still Values Medals More Than Girls  1.00\n",
    "Usa Finds A Match Helping Police Solve An Infamous 1994 Rape 0.49\n",
    "```"
   ]
  },
  {
   "cell_type": "markdown",
   "metadata": {
    "id": "JBA_6vchzmxh"
   },
   "source": [
    "__Q__: From the ouputs, what is the effect of using length normalization?\n",
    "\n",
    "__Ans__: The long outputs can be more appeared in the result because without length normalization, the long outputs will have less probability(multiply) that the short outputs which is not fair."
   ]
  },
  {
   "cell_type": "markdown",
   "metadata": {
    "id": "ZezN71cmzmxh"
   },
   "source": [
    "### Temperature Sampling"
   ]
  },
  {
   "cell_type": "markdown",
   "metadata": {
    "id": "encEs0qqzmxh"
   },
   "source": [
    "Now, you should be able to tell that in greedy decoding, the output will always be the same if you initialize it with the same seed, regardless how many times you try.\n",
    "\n",
    "This behaviour provides consistency to the output of your model but, at the same time, limits the ability to explore the output space. For example, you might not want the same news headline every times you start with the word \"The\".\n",
    "\n",
    "As such, we will introduce randomness to the model when decoding by using weighted sampling instead of argmax. At every step, we will sample the output using softmax outputs as probabilities for each word. One way you can implement this is random a number between 0 and 1 then loop through the probabilities of each word while iteratively adding it together. When the sum is more than the sampled number, you select that word as an output at that step."
   ]
  },
  {
   "cell_type": "markdown",
   "metadata": {
    "id": "iGoU6lgUzmxh"
   },
   "source": [
    "However, you might notice that even with the sampling method we just introduced, the output is most likely to be the same as greedy decoding because the probabilities of each word are too different (0.99 vs 0.01). \n",
    "Thus, we will use another method called temperature sampling to smoothen the probilities. Before sampling, we will scale each probabilites by powering it with _1/T_ then divide each value to the sum of all values to make its sum equals to 1 again. \n",
    "\n",
    "$$f_T(p_i) = \\frac{p_i^{1/T}}{\\sum p_i^{1/T}} $$\n",
    "\n",
    "Larger T will make the model more likely to choose unlikely words at each step. If T is close to 0, it will be the same as argmax."
   ]
  },
  {
   "cell_type": "markdown",
   "metadata": {
    "id": "EInPOjuQzmxh"
   },
   "source": [
    "### TODO 5:\n",
    "Implement greedy decoding function with temperature sampling. This function shoud be almost identical to your greedy_decode() except it does not use argmax."
   ]
  },
  {
   "cell_type": "code",
   "execution_count": 471,
   "metadata": {
    "id": "wGbGwhYSzmxh"
   },
   "outputs": [],
   "source": [
    "def sample_output(probs, temperature=1.0):\n",
    "    \"\"\"\n",
    "    probs: an array of probabilities\n",
    "    temperature: temperature\n",
    "\n",
    "    Return: index of the predicted words\n",
    "    \"\"\"\n",
    "    power_probs = np.power(probs,1/temperature)\n",
    "    smoothen_probs = power_probs/np.sum(power_probs)\n",
    "    sampled_num = np.random.uniform(0,1)\n",
    "    sum_smoothen_probs = 0\n",
    "    \n",
    "    for i in range(smoothen_probs.shape[0]):\n",
    "        sum_smoothen_probs += smoothen_probs[i]\n",
    "        if sum_smoothen_probs > sampled_num:\n",
    "            return i"
   ]
  },
  {
   "cell_type": "code",
   "execution_count": 403,
   "metadata": {
    "id": "tboSCsW0zmxh"
   },
   "outputs": [],
   "source": [
    "def temperature_sampling_decode(seed_text, max_gen_length, model, word_to_index, index_to_word, input_len, temperature):\n",
    "    \"\"\"Greedy decodes with seed text using temperature sampling.\n",
    "\n",
    "    Args:\n",
    "        seed_text: The seed string to be used as initial input to the model.\n",
    "        max_gen_length: Maximum length for generation.\n",
    "                        The decoding process must terminate when this length is reached\n",
    "        model: Pretrained keras model for prediction.\n",
    "        word_to_index: The dictionary for converting word to index.\n",
    "        input_len: A number indicating how many previously generated words will be used as \n",
    "                   inputs for the model.\n",
    "        temperature: temperature.\n",
    "\n",
    "    The retured probs must be before rescaling.\n",
    "    \"\"\"\n",
    "    current_text = seed_text\n",
    "    probs = []\n",
    "    for _ in range(max_gen_length):\n",
    "        ### YOUR CODE HERE\n",
    "        model_input = pad_sequences([texts_to_sequences(current_text,word_to_index)[-input_len:]], maxlen=input_len)\n",
    "        temp_probs = model.predict(model_input)\n",
    "        idx = sample_output(temp_probs[0], temperature)\n",
    "        probs.append(temp_probs[0][idx])\n",
    "        output_word = index_to_word[idx]\n",
    "        ### END YOUR CODE\n",
    "        current_text += \" \" + output_word\n",
    "    return current_text.title(), probs"
   ]
  },
  {
   "cell_type": "code",
   "execution_count": 452,
   "metadata": {
    "id": "sbDLGT0czmxh"
   },
   "outputs": [
    {
     "data": {
      "text/plain": [
       "('The President And The Porn Star Eos To Eat Smarter Carbs For More Than 30 Days',\n",
       " [0.007517852,\n",
       "  0.9916483,\n",
       "  0.99978966,\n",
       "  0.9977017,\n",
       "  0.99987495,\n",
       "  0.9999788,\n",
       "  0.5797474,\n",
       "  0.5318602,\n",
       "  0.2395685,\n",
       "  0.83405215,\n",
       "  0.9999993,\n",
       "  0.9998424,\n",
       "  0.99984455,\n",
       "  0.99982303,\n",
       "  0.9999199])"
      ]
     },
     "execution_count": 452,
     "metadata": {},
     "output_type": "execute_result"
    }
   ],
   "source": [
    "temperature_sampling_decode(\"the\", max_gen_length, model, word_to_index, index_to_word, input_len, 0.90)"
   ]
  },
  {
   "cell_type": "markdown",
   "metadata": {
    "id": "5s-fkVNmzmxi"
   },
   "source": [
    "Temperature SamplingUsing the same seed texts as above, compare the output from normal greedy decoding to Temperature Sampling with T=1.5 and T=5.0"
   ]
  },
  {
   "cell_type": "code",
   "execution_count": 456,
   "metadata": {
    "id": "Xj2riAc8zmxi"
   },
   "outputs": [
    {
     "name": "stdout",
     "output_type": "stream",
     "text": [
      "-Greedy-\n",
      "The Alienist Season 1 Episode 2 Darkness Descends\n",
      "\n",
      "\n",
      "-Temperature Sampling (T=1.5)-\n",
      "The Less Popular Ale Please\n",
      "\n",
      "\n",
      "-Temperature Sampling (T=5.0)-\n",
      "The Force Basketball Steer Trying In The Familiar Shows\n"
     ]
    }
   ],
   "source": [
    "seed = \"the\"\n",
    "greedy_result = greedy_decode(seed, max_gen_length, model, word_to_index, index_to_word, input_len)\n",
    "temper_sampling_result1 = temperature_sampling_decode(\"the\", max_gen_length, model, word_to_index, index_to_word, input_len, 1.5)\n",
    "temper_sampling_result2 = temperature_sampling_decode(\"the\", max_gen_length, model, word_to_index, index_to_word, input_len, 5.0)\n",
    "\n",
    "print('-Greedy-')\n",
    "greedy_output_text = clean_output(greedy_result[0],eos_token)\n",
    "print(f'{greedy_output_text}')\n",
    "print('\\n')\n",
    "print('-Temperature Sampling (T=1.5)-')\n",
    "temper_sampling_output_text1 = clean_output(temper_sampling_result1[0],eos_token)\n",
    "print(f'{temper_sampling_output_text1}')\n",
    "print('\\n')\n",
    "print('-Temperature Sampling (T=5.0)-')\n",
    "temper_sampling_output_text2 = clean_output(temper_sampling_result2[0],eos_token)\n",
    "print(f'{temper_sampling_output_text2}')"
   ]
  },
  {
   "cell_type": "markdown",
   "metadata": {
    "id": "S17VvTV1zmxi"
   },
   "source": [
    "#### ."
   ]
  },
  {
   "cell_type": "code",
   "execution_count": 472,
   "metadata": {},
   "outputs": [
    {
     "name": "stdout",
     "output_type": "stream",
     "text": [
      "-Greedy-\n",
      "The Alienist Season 1 Episode 2 Darkness Descends\n",
      "\n",
      "\n",
      "-Temperature sampling (T=0.05)-\n",
      "The Alienist Season 1 Episode 2 Darkness Descends\n",
      "\n",
      "\n",
      "Summary: T is close to 0 -> argmax\n"
     ]
    }
   ],
   "source": [
    "# Experiment\n",
    "temper_sampling = clean_output(temperature_sampling_decode(seed, max_gen_length, model, word_to_index, index_to_word, input_len, 0.05)[0],eos_token)\n",
    "greedy_result = clean_output(greedy_decode(seed, max_gen_length, model, word_to_index, index_to_word, input_len)[0],eos_token)\n",
    "\n",
    "print('-Greedy-')\n",
    "print(greedy_result)\n",
    "print('\\n')\n",
    "print('-Temperature sampling (T=0.05)-')\n",
    "print(temper_sampling)\n",
    "print('\\n')\n",
    "print('Summary: T is close to 0 -> argmax')"
   ]
  },
  {
   "cell_type": "code",
   "execution_count": null,
   "metadata": {},
   "outputs": [],
   "source": []
  }
 ],
 "metadata": {
  "colab": {
   "collapsed_sections": [],
   "name": "HW9-beam-search.ipynb",
   "provenance": []
  },
  "kernelspec": {
   "display_name": "Python 3",
   "language": "python",
   "name": "python3"
  },
  "language_info": {
   "codemirror_mode": {
    "name": "ipython",
    "version": 3
   },
   "file_extension": ".py",
   "mimetype": "text/x-python",
   "name": "python",
   "nbconvert_exporter": "python",
   "pygments_lexer": "ipython3",
   "version": "3.8.5"
  }
 },
 "nbformat": 4,
 "nbformat_minor": 4
}
